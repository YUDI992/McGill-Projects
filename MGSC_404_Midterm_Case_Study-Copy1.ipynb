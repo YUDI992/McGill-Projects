{
 "cells": [
  {
   "cell_type": "markdown",
   "metadata": {},
   "source": [
    "# MGSC 404 Midterm Case Study"
   ]
  },
  {
   "cell_type": "code",
   "execution_count": 243,
   "metadata": {
    "colab": {
     "base_uri": "https://localhost:8080/"
    },
    "id": "p5_5uAtrhbQC",
    "outputId": "bfeb4793-8c3c-4136-9a82-783809c5815d"
   },
   "outputs": [],
   "source": [
    "# pip install gurobipy"
   ]
  },
  {
   "cell_type": "code",
   "execution_count": 244,
   "metadata": {
    "id": "PmCL8uP2JVdI"
   },
   "outputs": [],
   "source": [
    "# Import packages\n",
    "from gurobipy import *\n",
    "import numpy as np\n",
    "import pandas as pd"
   ]
  },
  {
   "cell_type": "markdown",
   "metadata": {
    "id": "WQdhyZC6s0kM"
   },
   "source": [
    "# ***Question 1***"
   ]
  },
  {
   "cell_type": "code",
   "execution_count": 245,
   "metadata": {
    "colab": {
     "base_uri": "https://localhost:8080/"
    },
    "id": "MJS9IWdWRrW7",
    "outputId": "ca4c628b-a7a1-4149-ad8d-06ec87e6bad5"
   },
   "outputs": [],
   "source": [
    "model = Model('Funds Allocation')"
   ]
  },
  {
   "cell_type": "markdown",
   "metadata": {
    "id": "6j7wgoTHuum2"
   },
   "source": [
    "#### Production Variables (IBM)"
   ]
  },
  {
   "cell_type": "code",
   "execution_count": 246,
   "metadata": {
    "id": "CSJanT1nJm-7"
   },
   "outputs": [
    {
     "data": {
      "text/plain": [
       "{1: <gurobi.Var *Awaiting Model Update*>,\n",
       " 2: <gurobi.Var *Awaiting Model Update*>,\n",
       " 3: <gurobi.Var *Awaiting Model Update*>,\n",
       " 4: <gurobi.Var *Awaiting Model Update*>}"
      ]
     },
     "execution_count": 246,
     "metadata": {},
     "output_type": "execute_result"
    }
   ],
   "source": [
    "# For each quarter, add a decision variable representing the amount of IBM adapters produced\n",
    "Qi_IBM_prod = model.addVars(range(1, 5), lb=0, name=[f\"Q{i}_IBM_Prod\" for i in range(1, 5)])\n",
    "Qi_IBM_prod"
   ]
  },
  {
   "cell_type": "markdown",
   "metadata": {
    "id": "mkumUEvZR0oH"
   },
   "source": [
    "#### Production Variables (Mac)"
   ]
  },
  {
   "cell_type": "code",
   "execution_count": 247,
   "metadata": {
    "id": "xYxangePKjJv"
   },
   "outputs": [
    {
     "data": {
      "text/plain": [
       "{1: <gurobi.Var *Awaiting Model Update*>,\n",
       " 2: <gurobi.Var *Awaiting Model Update*>,\n",
       " 3: <gurobi.Var *Awaiting Model Update*>,\n",
       " 4: <gurobi.Var *Awaiting Model Update*>}"
      ]
     },
     "execution_count": 247,
     "metadata": {},
     "output_type": "execute_result"
    }
   ],
   "source": [
    "# For each quarter, add a decision variable representing the amount of Mac adapters produced\n",
    "Qi_Mac_prod = model.addVars(range(1, 5),lb=0, name=[f\"Q{i}_Mac_Prod\" for i in range(1, 5)])\n",
    "Qi_Mac_prod"
   ]
  },
  {
   "cell_type": "markdown",
   "metadata": {
    "id": "tN7jfSiPiqx9"
   },
   "source": [
    "#### Additional Sales from Ad (IBM)"
   ]
  },
  {
   "cell_type": "code",
   "execution_count": 248,
   "metadata": {
    "id": "o9NdxWXkKjNJ"
   },
   "outputs": [
    {
     "data": {
      "text/plain": [
       "{1: <gurobi.Var *Awaiting Model Update*>,\n",
       " 2: <gurobi.Var *Awaiting Model Update*>,\n",
       " 3: <gurobi.Var *Awaiting Model Update*>,\n",
       " 4: <gurobi.Var *Awaiting Model Update*>}"
      ]
     },
     "execution_count": 248,
     "metadata": {},
     "output_type": "execute_result"
    }
   ],
   "source": [
    "# For each quarter, add a decision variable representing the additional amount of the IBM adapters sold after advertising\n",
    "Qi_IBM_Ad = model.addVars(range(1, 5),lb=0, name=[f\"Q{i}_IBM_Ad\" for i in range(1, 5)])\n",
    "Qi_IBM_Ad"
   ]
  },
  {
   "cell_type": "markdown",
   "metadata": {
    "id": "856uX_kXjKeY"
   },
   "source": [
    "#### Additional Sales from Ad (Mac)"
   ]
  },
  {
   "cell_type": "code",
   "execution_count": 249,
   "metadata": {
    "id": "0AyL20Kvifkr"
   },
   "outputs": [
    {
     "data": {
      "text/plain": [
       "{1: <gurobi.Var *Awaiting Model Update*>,\n",
       " 2: <gurobi.Var *Awaiting Model Update*>,\n",
       " 3: <gurobi.Var *Awaiting Model Update*>,\n",
       " 4: <gurobi.Var *Awaiting Model Update*>}"
      ]
     },
     "execution_count": 249,
     "metadata": {},
     "output_type": "execute_result"
    }
   ],
   "source": [
    "# For each quarter, add a decision variable representing the additional amount of the Mac adapters sold after advertising\n",
    "Qi_Mac_Ad = model.addVars(range(1, 5), lb=0, name=[f\"Q{i}_Mac_Ad\" for i in range(1, 5)])\n",
    "Qi_Mac_Ad"
   ]
  },
  {
   "cell_type": "markdown",
   "metadata": {
    "id": "gclhKKV-jQ_i"
   },
   "source": [
    "#### Sales Variables (IBM)"
   ]
  },
  {
   "cell_type": "code",
   "execution_count": 196,
   "metadata": {
    "id": "_ySPpRXDjqz0"
   },
   "outputs": [
    {
     "data": {
      "text/plain": [
       "{1: <gurobi.Var *Awaiting Model Update*>,\n",
       " 2: <gurobi.Var *Awaiting Model Update*>,\n",
       " 3: <gurobi.Var *Awaiting Model Update*>,\n",
       " 4: <gurobi.Var *Awaiting Model Update*>}"
      ]
     },
     "execution_count": 196,
     "metadata": {},
     "output_type": "execute_result"
    }
   ],
   "source": [
    "# For each quarter, add a decision variable representing the sales of IBM adapters (units)\n",
    "Qi_IBM_sales = model.addVars(range(1, 5),lb=0, name=[f\"Q{i}_IBM_sales\" for i in range(1, 5)])\n",
    "Qi_IBM_sales"
   ]
  },
  {
   "cell_type": "markdown",
   "metadata": {
    "id": "n5p5i9zJjw28"
   },
   "source": [
    "#### Sales Variables (Mac)"
   ]
  },
  {
   "cell_type": "code",
   "execution_count": 197,
   "metadata": {
    "id": "GXpXRbmwifsO"
   },
   "outputs": [
    {
     "data": {
      "text/plain": [
       "{1: <gurobi.Var *Awaiting Model Update*>,\n",
       " 2: <gurobi.Var *Awaiting Model Update*>,\n",
       " 3: <gurobi.Var *Awaiting Model Update*>,\n",
       " 4: <gurobi.Var *Awaiting Model Update*>}"
      ]
     },
     "execution_count": 197,
     "metadata": {},
     "output_type": "execute_result"
    }
   ],
   "source": [
    "# For each quarter, add a decision variable representing the sales of Mac adapters (units)\n",
    "Qi_Mac_sales = model.addVars(range(1, 5), lb=0, name=[f\"Q{i}_Mac_sales\" for i in range(1, 5)])\n",
    "Qi_Mac_sales"
   ]
  },
  {
   "cell_type": "markdown",
   "metadata": {},
   "source": [
    "#### Advertising Cost"
   ]
  },
  {
   "cell_type": "code",
   "execution_count": 198,
   "metadata": {},
   "outputs": [],
   "source": [
    "# For each quarter, add a decision variable representing the total advertising cost\n",
    "advertising_cost = 10\n",
    "Qi_Ad_cost = model.addVars(range(1,5), lb=0, name = [f\"Q{i}_Ad_cost\" for i in range(1,5)])\n",
    "for i in range(1,5):\n",
    "    model.addConstr(Qi_Ad_cost[i] == advertising_cost * (Qi_IBM_Ad[i] + Qi_Mac_Ad[i]), name = f\"Define_Q{i}_Ad_cost\")"
   ]
  },
  {
   "cell_type": "markdown",
   "metadata": {
    "id": "RINImMCo115K"
   },
   "source": [
    "#### IBM Inventory Level"
   ]
  },
  {
   "cell_type": "code",
   "execution_count": 199,
   "metadata": {},
   "outputs": [
    {
     "data": {
      "text/plain": [
       "{1: <gurobi.Var *Awaiting Model Update*>,\n",
       " 2: <gurobi.Var *Awaiting Model Update*>,\n",
       " 3: <gurobi.Var *Awaiting Model Update*>,\n",
       " 4: <gurobi.Var *Awaiting Model Update*>,\n",
       " 0: 10000}"
      ]
     },
     "execution_count": 199,
     "metadata": {},
     "output_type": "execute_result"
    }
   ],
   "source": [
    "# For each quarter, add a decision variable representing the inventory level of IBM adapters for each quarter\n",
    "# Qi_IBM_inventory[0] means the initial inventory level of IBM adapters at the beginning of 1996\n",
    "# Qi_IBM_inventory[i] means the inventory level of IBM adapters at the end of the i-th quarter\n",
    "Qi_IBM_inventory = model.addVars(range(1,5), lb=0, name = [f\"Q{i}_IBM_inventory\" for i in range(1,5)])\n",
    "Qi_IBM_inventory[0] = 10000\n",
    "for i in range(1,5):\n",
    "    model.addConstr(Qi_IBM_inventory[i] == Qi_IBM_inventory[i-1] + Qi_IBM_prod[i] - Qi_IBM_sales[i] - Qi_IBM_Ad[i], name = f\"Define_Q{i}_IBM_inventory\")\n",
    "Qi_IBM_inventory"
   ]
  },
  {
   "cell_type": "markdown",
   "metadata": {},
   "source": [
    "#### Mac Inventory Level"
   ]
  },
  {
   "cell_type": "code",
   "execution_count": 200,
   "metadata": {},
   "outputs": [],
   "source": [
    "# For each quarter, add a decision variable representing the inventory level of Mac adapters for each quarter\n",
    "# Qi_Mac_inventory[0] means the initial inventory level of Mac adapters at the beginning of 1996\n",
    "# Qi_Mac_inventory[i] means the inventory level of Mac adapters at the end of the i-th quarter\n",
    "Qi_Mac_inventory = model.addVars(range(1,5), lb=0, name = [f\"Q{i}_Mac_inventory\" for i in range(1,5)])\n",
    "Qi_Mac_inventory[0] = 5000\n",
    "for i in range(1,5):\n",
    "    model.addConstr(Qi_Mac_inventory[i] == Qi_Mac_inventory[i-1] + Qi_Mac_prod[i] - Qi_Mac_sales[i] - Qi_Mac_Ad[i], name = f\"Define_Q{i}_Mac_inventory\")"
   ]
  },
  {
   "cell_type": "markdown",
   "metadata": {},
   "source": [
    "#### Inventory Carry Cost"
   ]
  },
  {
   "cell_type": "code",
   "execution_count": 201,
   "metadata": {},
   "outputs": [
    {
     "name": "stdout",
     "output_type": "stream",
     "text": [
      "0.0303\n"
     ]
    }
   ],
   "source": [
    "# We assume the inventory carry cost is compoundedly calculating\n",
    "inventory_monthly_cost = 0.01\n",
    "inventory_quarterly_cost = round(((1+inventory_monthly_cost) ** 3) - 1, 4) \n",
    "print(inventory_quarterly_cost)"
   ]
  },
  {
   "cell_type": "code",
   "execution_count": 202,
   "metadata": {},
   "outputs": [],
   "source": [
    "IBM_unit_cost = 100\n",
    "Mac_unit_cost = 110\n",
    "IBM_unit_price = 175\n",
    "Mac_unit_price = 200"
   ]
  },
  {
   "cell_type": "code",
   "execution_count": 203,
   "metadata": {},
   "outputs": [],
   "source": [
    "# For each quarter, add a decision variable representing the inventory carry cost for each quarter\n",
    "# We use average inventory level to calculate the inventory carry cost\n",
    "# average inventory level = inventory at the beginning of the quarter + inventory at the end of the quarter\n",
    "# We asssume the inventory level at the beginning of the quarter is the inventory level at the end of the last quarter\n",
    "Qi_carry_cost = model.addVars(range(1,5), lb=0, name=[f\"Q{i}_carry_cost\" for i in range(1,5)])\n",
    "for i in range(1,5):\n",
    "    model.addConstr(Qi_carry_cost[i] == IBM_unit_cost * inventory_quarterly_cost * 0.5 * (Qi_IBM_inventory[i-1] + Qi_IBM_inventory[i]) +  # take average inventory\n",
    "                                        Mac_unit_cost * inventory_quarterly_cost * 0.5 * (Qi_Mac_inventory[i-1] + Qi_Mac_inventory[i]), name = f\"Define_Q{i}_carry_cost\")"
   ]
  },
  {
   "cell_type": "markdown",
   "metadata": {
    "id": "Le_pu9Y7p0nk"
   },
   "source": [
    "#### Variable Cost"
   ]
  },
  {
   "cell_type": "code",
   "execution_count": 204,
   "metadata": {
    "colab": {
     "base_uri": "https://localhost:8080/"
    },
    "id": "LjfoOOWgtsxF",
    "outputId": "fc2580e2-30d9-489b-e512-81f510068c92"
   },
   "outputs": [],
   "source": [
    "# For each quarter, add a variable to the model representing variable cost ($) based on the units produced\n",
    "Qi_variable_cost = model.addVars(range(1,5), lb=0, name = [f\"Q{i}_variable_cost\" for i in range(1,5)])\n",
    "for i in range(1,5):\n",
    "    model.addConstr(Qi_variable_cost[i] == IBM_unit_cost * Qi_IBM_prod[i] + Mac_unit_cost * Qi_Mac_prod[i], name = f\"Define_Q{i}_variable_cost\")"
   ]
  },
  {
   "cell_type": "markdown",
   "metadata": {
    "id": "lxjJ8mJBv7A6"
   },
   "source": [
    "#### Fixed Cost"
   ]
  },
  {
   "cell_type": "code",
   "execution_count": 205,
   "metadata": {
    "id": "QBZahB-Gv-Lq"
   },
   "outputs": [],
   "source": [
    "quarterly_fixed_cost = 150000"
   ]
  },
  {
   "cell_type": "markdown",
   "metadata": {
    "id": "IBO6TjHettI3"
   },
   "source": [
    "#### Revenue"
   ]
  },
  {
   "cell_type": "code",
   "execution_count": 206,
   "metadata": {
    "colab": {
     "base_uri": "https://localhost:8080/"
    },
    "id": "25aJQ7noifwc",
    "outputId": "55011378-2ee6-4609-fee9-c4f7d7701f70"
   },
   "outputs": [],
   "source": [
    "# For each quarter, add a variable to the model representing revenue generated based on total sales ($)\n",
    "Qi_total_revenue = model.addVars(range(1,5), lb=0, name = [f\"Q{i}_total_revenue\" for i in range(1,5)])\n",
    "for i in range(1,5):\n",
    "    model.addConstr(Qi_total_revenue[i] == IBM_unit_price * (Qi_IBM_sales[i] + Qi_IBM_Ad[i]) + Mac_unit_price * (Qi_Mac_sales[i] + Qi_Mac_Ad[i]), name = f\"Define_Q{i}_revenus\")"
   ]
  },
  {
   "cell_type": "markdown",
   "metadata": {},
   "source": [
    "#### Initial Funds for 1996"
   ]
  },
  {
   "cell_type": "code",
   "execution_count": 207,
   "metadata": {},
   "outputs": [],
   "source": [
    "receivables_IBM = {\n",
    "    1: 0.75,\n",
    "    2: 0.20,\n",
    "    3: 0.03,\n",
    "    4: 0.02 * 0.5  # The price goes down by a half when the adapters are uncollectible\n",
    "}\n",
    "receivables_Mac = {\n",
    "    1: 0.80,\n",
    "    2: 0.11,\n",
    "    3: 0.05,\n",
    "    4: 0.04 * 0.5 # The price goes down by a half when the adapters are uncollectible\n",
    "}"
   ]
  },
  {
   "cell_type": "code",
   "execution_count": 208,
   "metadata": {},
   "outputs": [],
   "source": [
    "IBM_sales_1995 = {\n",
    "    1: 5000,\n",
    "    2: 6000,\n",
    "    3: 7000,\n",
    "    4: 8000\n",
    "}\n",
    "Mac_sales_1995 = {\n",
    "    1: 1000,\n",
    "    2: 1200,\n",
    "    3: 1400,\n",
    "    4: 1600\n",
    "}"
   ]
  },
  {
   "cell_type": "markdown",
   "metadata": {},
   "source": [
    "We assume that the unit price for IBM adapters was the same in 1995 as in 1996."
   ]
  },
  {
   "cell_type": "code",
   "execution_count": 209,
   "metadata": {},
   "outputs": [],
   "source": [
    "# Calculating the amount of funds that came from the sales of IBM adapters in 1995 but was received in 1996\n",
    "IBM_initial_funds = {}\n",
    "IBM_initial_funds[1] = receivables_IBM[4] * IBM_unit_price * IBM_sales_1995[2] + receivables_IBM[3] * IBM_unit_price * IBM_sales_1995[3] + receivables_IBM[2] * IBM_unit_price * IBM_sales_1995[4]\n",
    "IBM_initial_funds[2] = receivables_IBM[4] * IBM_unit_price * IBM_sales_1995[3] + receivables_IBM[3] * IBM_unit_price * IBM_sales_1995[4]\n",
    "IBM_initial_funds[3] = receivables_IBM[4] * IBM_unit_price * IBM_sales_1995[4]\n",
    "IBM_initial_funds[4] = 0"
   ]
  },
  {
   "cell_type": "code",
   "execution_count": 210,
   "metadata": {},
   "outputs": [
    {
     "data": {
      "text/plain": [
       "{1: 327250.0, 2: 54250.0, 3: 14000.0, 4: 0}"
      ]
     },
     "execution_count": 210,
     "metadata": {},
     "output_type": "execute_result"
    }
   ],
   "source": [
    "IBM_initial_funds"
   ]
  },
  {
   "cell_type": "markdown",
   "metadata": {},
   "source": [
    "We assume that the unit price for Mac adapters was the same in 1995 as in 1996."
   ]
  },
  {
   "cell_type": "code",
   "execution_count": 211,
   "metadata": {},
   "outputs": [],
   "source": [
    "# Calculating the amount of cash that came from the sales of Mac adapters in 1995 but was received in 1996\n",
    "Mac_initial_funds = {}\n",
    "Mac_initial_funds[1] = receivables_Mac[4] * Mac_unit_price * Mac_sales_1995[2] + receivables_Mac[3] * Mac_unit_price * Mac_sales_1995[3] + receivables_Mac[2] * Mac_unit_price * Mac_sales_1995[4]\n",
    "Mac_initial_funds[2] = receivables_Mac[4] * Mac_unit_price * Mac_sales_1995[3] + receivables_Mac[3] * Mac_unit_price * Mac_sales_1995[4]\n",
    "Mac_initial_funds[3] = receivables_Mac[4] * Mac_unit_price * Mac_sales_1995[4]\n",
    "Mac_initial_funds[4] = 0"
   ]
  },
  {
   "cell_type": "code",
   "execution_count": 212,
   "metadata": {},
   "outputs": [
    {
     "data": {
      "text/plain": [
       "{1: 54000.0, 2: 21600.0, 3: 6400.0, 4: 0}"
      ]
     },
     "execution_count": 212,
     "metadata": {},
     "output_type": "execute_result"
    }
   ],
   "source": [
    "Mac_initial_funds"
   ]
  },
  {
   "cell_type": "markdown",
   "metadata": {},
   "source": [
    "#### Account Receivables in 1996"
   ]
  },
  {
   "cell_type": "code",
   "execution_count": 213,
   "metadata": {},
   "outputs": [],
   "source": [
    "credit_interest_rate = 0.15\n",
    "surplus_fund_rate = 0.06"
   ]
  },
  {
   "cell_type": "code",
   "execution_count": 214,
   "metadata": {},
   "outputs": [],
   "source": [
    "# The function is used to calculate the account receivables for 1996\n",
    "def calculate_receivables(sales, sales_Ad, price, proportion):\n",
    "    receivables = {}\n",
    "    for i in range(1,5):\n",
    "        receivables[i] = (sales[i] + sales_Ad[i]) * price * proportion[1]\n",
    "        for j in range(1,i):\n",
    "            receivables[i] += (sales[i-j] + sales_Ad[i-j]) * price * proportion[j+1]\n",
    "    return receivables"
   ]
  },
  {
   "cell_type": "code",
   "execution_count": 215,
   "metadata": {},
   "outputs": [],
   "source": [
    "# For each quarter, define the amount of receivables from selling IBM adapters\n",
    "Qi_IBM_receivables = model.addVars(range(1,5), lb=0, name = [f\"Q{i}_IBM_receivables\" for i in range(1,5)])\n",
    "for i in range(1,5):\n",
    "    model.addConstr(Qi_IBM_receivables[i] == calculate_receivables(Qi_IBM_sales, Qi_IBM_Ad, IBM_unit_price, receivables_IBM)[i], name = f\"Define_Q{i}_IBM_receivables\")"
   ]
  },
  {
   "cell_type": "code",
   "execution_count": 216,
   "metadata": {},
   "outputs": [],
   "source": [
    "# For each quarter, define the amount of receivables from selling Mac adapters\n",
    "Qi_Mac_receivables = model.addVars(range(1,5), lb=0, name = [f\"Q{i}_Mac_receivables\" for i in range(1,5)])\n",
    "for i in range(1,5):\n",
    "    model.addConstr(Qi_Mac_receivables[i] == calculate_receivables(Qi_Mac_sales, Qi_Mac_Ad, Mac_unit_price, receivables_Mac)[i], name = f\"Define_Q{i}_Mac_receivables\")"
   ]
  },
  {
   "cell_type": "markdown",
   "metadata": {},
   "source": [
    "#### Amount Borrowed, Interest Expense, Surplus Return"
   ]
  },
  {
   "cell_type": "code",
   "execution_count": 217,
   "metadata": {},
   "outputs": [],
   "source": [
    "# Qi_amount_borrowed[i] represents the amount of credit we borrowed from the bank for the i-th quarter\n",
    "Qi_amount_borrowed = model.addVars(range(1,5), lb=0, name = [f\"Q{i}_amount_borrowed\" for i in range(1,5)])\n",
    "\n",
    "# Qi_amount_payback[i] represents the amount of funds we should pay back the bank for the i-th quarter\n",
    "Qi_amount_payback = model.addVars(range(1,5), lb=0, name=[f\"Q{i}_amount_payback\" for i in range(1,5)]) \n",
    "\n",
    "# Qi_interest_expense[i] represents the amount of interest we should pay due to the borrowing for the i-th quarter\n",
    "Qi_interest_expense = model.addVars(range(1,5), lb=0, name=[f\"Q{i}_interest_expense\" for i in range(1,5)])\n",
    "\n",
    "# Qi_surplus_return[i] represents the amount of investment return we earn due to the investment of surplus fund to short-term government securities for the i-th quarter\n",
    "Qi_surplus_return = model.addVars(range(1,5), lb=0, name=[f\"Q{i}_surplus_return\" for i in range(1,5)])\n",
    "\n",
    "# Qi_cash[i] represents the amount of cash we have at the beginning of the i-th quarter\n",
    "Qi_cash = model.addVars(range(1,5), lb=0, name=[f\"Q{i}_cash\" for i in range(1,5)])\n",
    "\n",
    "# Qi_debt[i] represents the amount of debt which we should pay interest for in i-th quarter\n",
    "Qi_debt = model.addVars(range(1,5), lb=0, name=[f\"Q{i}_debt\" for i in range(1,5)])"
   ]
  },
  {
   "cell_type": "code",
   "execution_count": 218,
   "metadata": {},
   "outputs": [],
   "source": [
    "# The initial investment return from surplus fund, the initial interest expense, and the initial account receivables (for both IBM and Mac adapters) are all 0\n",
    "Qi_surplus_return[0] = 0\n",
    "Qi_interest_expense[0] = 0\n",
    "Qi_IBM_receivables[0] = 0\n",
    "Qi_Mac_receivables[0] = 0"
   ]
  },
  {
   "cell_type": "code",
   "execution_count": 219,
   "metadata": {},
   "outputs": [],
   "source": [
    "# Add a constraint that defines the cash variable at the beginning of each quarter\n",
    "for i in range(1,5):\n",
    "    model.addConstr(Qi_cash[i] == Qi_surplus_return[i-1] + IBM_initial_funds[i] + Mac_initial_funds[i] + Qi_IBM_receivables[i-1] + Qi_Mac_receivables[i-1], name = f\"Define_Q{i}_cash\")"
   ]
  },
  {
   "cell_type": "code",
   "execution_count": 220,
   "metadata": {},
   "outputs": [],
   "source": [
    "# Add a constraint that the money on hand (cash available + amount borrowed from the bank) should be greater or equal to the cost generated from production, advertising, inventory, and interest expenses\n",
    "for i in range(1,5):\n",
    "    model.addConstr(Qi_cash[i] + Qi_amount_borrowed[i] >= Qi_variable_cost[i] + quarterly_fixed_cost + Qi_carry_cost[i] + Qi_Ad_cost[i] + Qi_interest_expense[i-1], name = f\"Q{i}_cost_amount_borrowed\")"
   ]
  },
  {
   "cell_type": "code",
   "execution_count": 221,
   "metadata": {},
   "outputs": [],
   "source": [
    "# Add a constraint that defines the amount of suplus return for each quarter\n",
    "for i in range(1,5):\n",
    "    model.addConstr(Qi_surplus_return[i] == (surplus_fund_rate/4) * (Qi_cash[i] + Qi_amount_borrowed[i] - (Qi_variable_cost[i] + quarterly_fixed_cost + Qi_carry_cost[i] + Qi_Ad_cost[i] + Qi_interest_expense[i-1])), name = f\"Define_Q{i}_surplus_return\")"
   ]
  },
  {
   "cell_type": "code",
   "execution_count": 222,
   "metadata": {},
   "outputs": [
    {
     "data": {
      "text/plain": [
       "<gurobi.Constr *Awaiting Model Update*>"
      ]
     },
     "execution_count": 222,
     "metadata": {},
     "output_type": "execute_result"
    }
   ],
   "source": [
    "# Add a constraint that defines the amount of debt (the portion that the company will pay interest for) for each quarter\n",
    "model.addConstr(Qi_debt[1] == Qi_amount_borrowed[1], name = \"Define_Q1_debt\")\n",
    "model.addConstr(Qi_debt[2] == Qi_amount_borrowed[1] + Qi_amount_borrowed[2] - Qi_amount_payback[1], name = \"Define_Q2_debt\")\n",
    "model.addConstr(Qi_debt[3] == Qi_amount_borrowed[1] + Qi_amount_borrowed[2] + Qi_amount_borrowed[3] - Qi_amount_payback[1] - Qi_amount_payback[2], name = \"Define_Q3_debt\")\n",
    "model.addConstr(Qi_debt[4] == Qi_amount_borrowed[1] + Qi_amount_borrowed[2] + Qi_amount_borrowed[3] + Qi_amount_borrowed[4]- Qi_amount_payback[1] - Qi_amount_payback[2] - Qi_amount_payback[3], name = \"Define_Q4_debt\")"
   ]
  },
  {
   "cell_type": "code",
   "execution_count": 223,
   "metadata": {},
   "outputs": [],
   "source": [
    "# Add a constraint that define the amount interest expenses for each quarter\n",
    "for i in range(1,5):\n",
    "    model.addConstr(Qi_interest_expense[i] == (credit_interest_rate/4) * Qi_debt[i], name = f\"Define_Q{i}_interest_expense\")    "
   ]
  },
  {
   "cell_type": "code",
   "execution_count": 224,
   "metadata": {},
   "outputs": [],
   "source": [
    "# Add a constraint that the amount we pay back to the bank should be less or equal to the amount of debt for each quarter\n",
    "for i in range(1,5):\n",
    "     model.addConstr(Qi_amount_payback[i] <= Qi_debt[i], name = f\"Q{i}_payback_limit\")"
   ]
  },
  {
   "cell_type": "code",
   "execution_count": 225,
   "metadata": {},
   "outputs": [
    {
     "data": {
      "text/plain": [
       "<gurobi.Constr *Awaiting Model Update*>"
      ]
     },
     "execution_count": 225,
     "metadata": {},
     "output_type": "execute_result"
    }
   ],
   "source": [
    "# Add a constraint that defines the maximum amount that we can borrow from the bank for each quarter\n",
    "model.addConstr(Qi_amount_borrowed[1] <= 750000, name = \"Q1_amount_borrowed\")\n",
    "model.addConstr(Qi_amount_borrowed[2] <= 750000 - Qi_amount_borrowed[1] + Qi_amount_payback[1], name = \"Q2_amount_borrowed\")\n",
    "model.addConstr(Qi_amount_borrowed[3] <= 750000 - Qi_amount_borrowed[1] + Qi_amount_payback[1] - Qi_amount_borrowed[2] + Qi_amount_payback[2], name = \"Q3_amount_borrowed\")\n",
    "model.addConstr(Qi_amount_borrowed[4] <= 750000 - Qi_amount_borrowed[1] + Qi_amount_payback[1] - Qi_amount_borrowed[2] + Qi_amount_payback[2] - Qi_amount_borrowed[3] + Qi_amount_payback[3], name = \"Q4_amount_borrowed\")"
   ]
  },
  {
   "cell_type": "markdown",
   "metadata": {
    "id": "LTvnhN00XurR"
   },
   "source": [
    "#### Maximum Production Constraints"
   ]
  },
  {
   "cell_type": "markdown",
   "metadata": {
    "id": "X7WocOM9X__R"
   },
   "source": [
    "IBM"
   ]
  },
  {
   "cell_type": "code",
   "execution_count": 226,
   "metadata": {
    "id": "N-1bjKSLXt2j"
   },
   "outputs": [],
   "source": [
    "# For each quarter, add a constraint stipulating that the actual production of IBM adapters cannot exceed the quarter's maximum production\n",
    "# We assume the plant operates two shifts per day, and 12 hours per shift\n",
    "# Operation Hours: 24h * 20 days = 480h/month = 1440h/quarter\n",
    "IBM_max_production = {\n",
    "    1: 43200, # 1440 * 30 = 43200\n",
    "    2: 43200,\n",
    "    3: 43200,\n",
    "    4: 47520 # 1440 * 33 = 47520 (the production capacity increaes by 10% at the beginning of the 4th quarter)\n",
    "}\n",
    "for i in range(1,5):\n",
    "    model.addConstr(Qi_IBM_prod[i] <= IBM_max_production[i], name = f\"Q{i}_IBM_Max_Prod\")"
   ]
  },
  {
   "cell_type": "markdown",
   "metadata": {
    "id": "Bm0xlTrRZMAN"
   },
   "source": [
    "Mac"
   ]
  },
  {
   "cell_type": "code",
   "execution_count": 227,
   "metadata": {
    "id": "tnH7cBbvXttz"
   },
   "outputs": [],
   "source": [
    "# For each quarter, add a constraint stipulating that the actual production of Mac adapters cannot exceed the quarter's maximum production\n",
    "# We assume the plant operates two shifts per day, and 12 hours per shift\n",
    "# Operation Hours: 24h * 20 days = 480h/month = 1440h/quarter\n",
    "Mac_max_production = {\n",
    "    1: 14400, # 1440 * 10 = 14400\n",
    "    2: 14400,\n",
    "    3: 14400,\n",
    "    4: 15840 # 1440 * 11 = 15840 (the production capacity increaes by 10% at the beginning of the 4th quarter)\n",
    "}\n",
    "for i in range(1,5):\n",
    "    model.addConstr(Qi_Mac_prod[i] <= Mac_max_production[i], name = f\"Q{i}_Mac_Max_Prod\")"
   ]
  },
  {
   "cell_type": "markdown",
   "metadata": {
    "id": "sfAwuACjZf72"
   },
   "source": [
    "#### Maximum Sales Constraints"
   ]
  },
  {
   "cell_type": "markdown",
   "metadata": {
    "id": "lEzpJkNla-DS"
   },
   "source": [
    "IBM"
   ]
  },
  {
   "cell_type": "code",
   "execution_count": 228,
   "metadata": {
    "id": "NTX-4DlfXtk0"
   },
   "outputs": [],
   "source": [
    "# For each quarter, add a constraint stipulating that the actual sales of IBM adapters cannot exceed the quarter's maximum sales after advertising\n",
    "IBM_sales_1996 = {\n",
    "    1: 9000,\n",
    "    2: 10000,\n",
    "    3: 11000,\n",
    "    4: 12000\n",
    "}\n",
    "for i in range(1,5):\n",
    "    model.addConstr(Qi_IBM_sales[i] <= IBM_sales_1996[i] + Qi_IBM_Ad[i], name = f\"Q{i}_IBM_Max_Sales\")"
   ]
  },
  {
   "cell_type": "markdown",
   "metadata": {
    "id": "47kwMQWCbhhz"
   },
   "source": [
    "Mac"
   ]
  },
  {
   "cell_type": "code",
   "execution_count": 229,
   "metadata": {
    "id": "HWnimudybiYB"
   },
   "outputs": [],
   "source": [
    "# For each quarter, add a constraint stipulating that the actual sales of Mac adapters cannot exceed the quarter's maximum sales after advertising\n",
    "Mac_sales_1996 = {\n",
    "    1: 1800,\n",
    "    2: 2000,\n",
    "    3: 2200,\n",
    "    4: 2400\n",
    "}\n",
    "for i in range(1,5):\n",
    "    model.addConstr(Qi_Mac_sales[i] <= Mac_sales_1996[i] + Qi_Mac_Ad[i], name = f\"Q{i}_Mac_Max_Sales\")"
   ]
  },
  {
   "cell_type": "markdown",
   "metadata": {
    "id": "HDcaSbZLIa5c"
   },
   "source": [
    "#### Sales <= Inventory Constraints"
   ]
  },
  {
   "cell_type": "markdown",
   "metadata": {
    "id": "VLtliJpVIbGU"
   },
   "source": [
    "IBM"
   ]
  },
  {
   "cell_type": "code",
   "execution_count": 230,
   "metadata": {
    "id": "J9xdotSDIbl9"
   },
   "outputs": [],
   "source": [
    "# For each quarter, add a constraint that the total sales of IBM adapters after advertising should not exceed the inventory level at that quarter\n",
    "for i in range(1,5):\n",
    "    model.addConstr(Qi_IBM_sales[i] + Qi_IBM_Ad[i] <= Qi_IBM_inventory[i], name = f\"Q{i}_IBM_Sales_Inventory\")"
   ]
  },
  {
   "cell_type": "markdown",
   "metadata": {},
   "source": [
    "Mac"
   ]
  },
  {
   "cell_type": "code",
   "execution_count": 231,
   "metadata": {
    "id": "mNaR5B3XIcDX"
   },
   "outputs": [],
   "source": [
    "# For each quarter, add a constraint that the total sales of Mac adapters after advertising should not exceed the inventory level at that quarter\n",
    "for i in range(1,5):\n",
    "    model.addConstr(Qi_Mac_sales[i] + Qi_Mac_Ad[i] <= Qi_Mac_inventory[i], name = f\"Q{i}_Mac_Sales_Inventory\")"
   ]
  },
  {
   "cell_type": "markdown",
   "metadata": {},
   "source": [
    "#### Safety Inventory Constraints"
   ]
  },
  {
   "cell_type": "markdown",
   "metadata": {},
   "source": [
    "IBM"
   ]
  },
  {
   "cell_type": "code",
   "execution_count": 232,
   "metadata": {},
   "outputs": [],
   "source": [
    "# For each quarter, add a constraint that the production plus the end-of-period inventory for the IBM adapters should be at least 10% larger than the estimated sales for the quarter.\n",
    "for i in range(1,5):\n",
    "    model.addConstr(Qi_IBM_prod[i] + Qi_IBM_inventory[i-1] >= 1.1 * Qi_IBM_sales[i], \n",
    "                    name = f\"Q{i}_IBM_safety_inventory\")"
   ]
  },
  {
   "cell_type": "markdown",
   "metadata": {},
   "source": [
    "Mac"
   ]
  },
  {
   "cell_type": "code",
   "execution_count": 233,
   "metadata": {},
   "outputs": [],
   "source": [
    "# For each quarter, add a constraint that the production plus the end-of-period inventory for the Mac adapters should be at least 10% larger than the estimated sales for the quarter.\n",
    "for i in range(1,5):\n",
    "    model.addConstr(Qi_Mac_prod[i] + Qi_Mac_inventory[i-1] >= 1.1 * Qi_Mac_sales[i] , \n",
    "                    name = f\"Q{i}_Mac_safety_inventory\")"
   ]
  },
  {
   "cell_type": "markdown",
   "metadata": {},
   "source": [
    "#### Inventory Transition Constraint"
   ]
  },
  {
   "cell_type": "markdown",
   "metadata": {},
   "source": [
    "IBM"
   ]
  },
  {
   "cell_type": "code",
   "execution_count": 234,
   "metadata": {},
   "outputs": [
    {
     "data": {
      "text/plain": [
       "<gurobi.Constr *Awaiting Model Update*>"
      ]
     },
     "execution_count": 234,
     "metadata": {},
     "output_type": "execute_result"
    }
   ],
   "source": [
    "# Add a constraints that the inventory level of IBM adapters plus production at the end of the fourth quarter of 1996 should be at least twice the maximum expected sales for that quarter\n",
    "model.addConstr(Qi_IBM_inventory[4] + Qi_IBM_prod[4] >= 2 * IBM_sales_1996[4], name=f\"IBM_transition\")"
   ]
  },
  {
   "cell_type": "markdown",
   "metadata": {},
   "source": [
    "Mac"
   ]
  },
  {
   "cell_type": "code",
   "execution_count": 235,
   "metadata": {},
   "outputs": [
    {
     "data": {
      "text/plain": [
       "<gurobi.Constr *Awaiting Model Update*>"
      ]
     },
     "execution_count": 235,
     "metadata": {},
     "output_type": "execute_result"
    }
   ],
   "source": [
    "# Add a constraints that the inventory level of Mac adapters plus production at the end of the fourth quarter of 1996 should be at least twice the maximum expected sales for that quarter\n",
    "model.addConstr(Qi_Mac_inventory[4] + Qi_Mac_prod[4] >= 2 * Mac_sales_1996[4], name=f\"Mac_transition\")"
   ]
  },
  {
   "cell_type": "markdown",
   "metadata": {},
   "source": [
    "# ***Question 2***"
   ]
  },
  {
   "cell_type": "markdown",
   "metadata": {},
   "source": [
    "#### Profit"
   ]
  },
  {
   "cell_type": "code",
   "execution_count": 236,
   "metadata": {},
   "outputs": [
    {
     "name": "stdout",
     "output_type": "stream",
     "text": [
      "-600000.0 + <gurobi.Var *Awaiting Model Update*> + <gurobi.Var *Awaiting Model Update*> + -1.0 <gurobi.Var *Awaiting Model Update*> + -1.0 <gurobi.Var *Awaiting Model Update*> + -1.0 <gurobi.Var *Awaiting Model Update*> + -1.0 <gurobi.Var *Awaiting Model Update*> + <gurobi.Var *Awaiting Model Update*> + <gurobi.Var *Awaiting Model Update*> + -1.0 <gurobi.Var *Awaiting Model Update*> + -1.0 <gurobi.Var *Awaiting Model Update*> + -1.0 <gurobi.Var *Awaiting Model Update*> + -1.0 <gurobi.Var *Awaiting Model Update*> + <gurobi.Var *Awaiting Model Update*> + <gurobi.Var *Awaiting Model Update*> + -1.0 <gurobi.Var *Awaiting Model Update*> + -1.0 <gurobi.Var *Awaiting Model Update*> + -1.0 <gurobi.Var *Awaiting Model Update*> + -1.0 <gurobi.Var *Awaiting Model Update*> + <gurobi.Var *Awaiting Model Update*> + <gurobi.Var *Awaiting Model Update*> + -1.0 <gurobi.Var *Awaiting Model Update*> + -1.0 <gurobi.Var *Awaiting Model Update*> + -1.0 <gurobi.Var *Awaiting Model Update*> + -1.0 <gurobi.Var *Awaiting Model Update*>\n"
     ]
    }
   ],
   "source": [
    "profit = 0\n",
    "for i in range(1,5):\n",
    "    revenue = Qi_total_revenue[i] + Qi_surplus_return[i]\n",
    "    cost = Qi_variable_cost[i] + quarterly_fixed_cost + Qi_carry_cost[i] + Qi_Ad_cost[i] + Qi_interest_expense[i]\n",
    "    profit += revenue - cost\n",
    "print(profit)"
   ]
  },
  {
   "cell_type": "markdown",
   "metadata": {},
   "source": [
    "#### Objective Function"
   ]
  },
  {
   "cell_type": "code",
   "execution_count": 237,
   "metadata": {},
   "outputs": [],
   "source": [
    "model.setObjective(profit, GRB.MAXIMIZE)"
   ]
  },
  {
   "cell_type": "markdown",
   "metadata": {},
   "source": [
    "#### Run the Model"
   ]
  },
  {
   "cell_type": "code",
   "execution_count": 238,
   "metadata": {},
   "outputs": [
    {
     "name": "stdout",
     "output_type": "stream",
     "text": [
      "Gurobi Optimizer version 11.0.0 build v11.0.0rc2 (win64 - Windows 10.0 (19045.2))\n",
      "\n",
      "CPU model: 11th Gen Intel(R) Core(TM) i5-1135G7 @ 2.40GHz, instruction set [SSE2|AVX|AVX2|AVX512]\n",
      "Thread count: 4 physical cores, 8 logical processors, using up to 8 threads\n",
      "\n",
      "Optimize a model with 94 rows, 80 columns and 337 nonzeros\n",
      "Model fingerprint: 0x0fbb5a30\n",
      "Coefficient statistics:\n",
      "  Matrix range     [1e-02, 2e+02]\n",
      "  Objective range  [1e+00, 1e+00]\n",
      "  Bounds range     [0e+00, 0e+00]\n",
      "  RHS range        [2e+03, 8e+05]\n",
      "Presolve removed 49 rows and 40 columns\n",
      "Presolve time: 0.01s\n",
      "Presolved: 45 rows, 40 columns, 279 nonzeros\n",
      "\n",
      "Iteration    Objective       Primal Inf.    Dual Inf.      Time\n",
      "       0    2.4300000e+31   6.861417e+31   2.430000e+01      0s\n",
      "      28    4.4741978e+06   0.000000e+00   0.000000e+00      0s\n",
      "\n",
      "Solved in 28 iterations and 0.02 seconds (0.00 work units)\n",
      "Optimal objective  4.474197806e+06\n"
     ]
    }
   ],
   "source": [
    "model.optimize()"
   ]
  },
  {
   "cell_type": "code",
   "execution_count": 239,
   "metadata": {},
   "outputs": [
    {
     "name": "stdout",
     "output_type": "stream",
     "text": [
      "Optimal Obj Value: 4474197.80620049\n"
     ]
    }
   ],
   "source": [
    "print(\"Optimal Obj Value:\", model.objVal)"
   ]
  },
  {
   "cell_type": "markdown",
   "metadata": {},
   "source": [
    "#### Sensitivity Analysis Tables"
   ]
  },
  {
   "cell_type": "code",
   "execution_count": 240,
   "metadata": {},
   "outputs": [],
   "source": [
    "def sensitivity_analysis_table(model: Model) -> pd.DataFrame:\n",
    "    # Ensure the model has been solved\n",
    "    if model.Status != 2:  # Model status 2 is 'Optimized'\n",
    "        raise ValueError(\"Model must be optimized before sensitivity analysis can be performed.\")\n",
    "    \n",
    "    # Collecting sensitivity analysis for variables\n",
    "    variables_data = {\n",
    "        'Variable': [],\n",
    "        'Optimal Value': [],\n",
    "        'Reduced Cost': [],\n",
    "        'Allowable Increase (Obj Coeff)': [],\n",
    "        'Allowable Decrease (Obj Coeff)': []\n",
    "    }\n",
    "    for v in model.getVars():\n",
    "        variables_data['Variable'].append(v.VarName)\n",
    "        variables_data['Optimal Value'].append(v.X)\n",
    "        variables_data['Reduced Cost'].append(v.RC)\n",
    "        variables_data['Allowable Increase (Obj Coeff)'].append(v.SAObjUp)\n",
    "        variables_data['Allowable Decrease (Obj Coeff)'].append(v.SAObjLow)\n",
    "    \n",
    "    variables_df = pd.DataFrame(variables_data)\n",
    "    \n",
    "    # Collecting sensitivity analysis for constraints\n",
    "    constraints_data = {\n",
    "        'Constraint': [],\n",
    "        'RHS Constraint':[],\n",
    "        'Slack': [],\n",
    "        'Final Value':[],\n",
    "        'Shadow Price': [],\n",
    "        'Allowable Increase (RHS)': [],\n",
    "        'Allowable Decrease (RHS)': []\n",
    "    }\n",
    "    for c in model.getConstrs():\n",
    "        constraints_data['Constraint'].append(c.ConstrName)\n",
    "        constraints_data['RHS Constraint'].append(c.RHS)\n",
    "        constraints_data['Slack'].append(c.Slack)\n",
    "        constraints_data['Final Value'].append(c.RHS - c.Slack)\n",
    "        constraints_data['Shadow Price'].append(c.Pi)\n",
    "        constraints_data['Allowable Increase (RHS)'].append(c.SARHSUp)\n",
    "        constraints_data['Allowable Decrease (RHS)'].append(c.SARHSLow)\n",
    "    \n",
    "    constraints_df = pd.DataFrame(constraints_data)\n",
    " \n",
    "    # Return both DataFrames separately\n",
    "    return variables_df, constraints_df\n",
    "\n",
    "variables_df, constraints_df = sensitivity_analysis_table(model)"
   ]
  },
  {
   "cell_type": "code",
   "execution_count": 241,
   "metadata": {
    "scrolled": false
   },
   "outputs": [
    {
     "data": {
      "text/html": [
       "<div>\n",
       "<style scoped>\n",
       "    .dataframe tbody tr th:only-of-type {\n",
       "        vertical-align: middle;\n",
       "    }\n",
       "\n",
       "    .dataframe tbody tr th {\n",
       "        vertical-align: top;\n",
       "    }\n",
       "\n",
       "    .dataframe thead th {\n",
       "        text-align: right;\n",
       "    }\n",
       "</style>\n",
       "<table border=\"1\" class=\"dataframe\">\n",
       "  <thead>\n",
       "    <tr style=\"text-align: right;\">\n",
       "      <th></th>\n",
       "      <th>Variable</th>\n",
       "      <th>Optimal Value</th>\n",
       "      <th>Reduced Cost</th>\n",
       "      <th>Allowable Increase (Obj Coeff)</th>\n",
       "      <th>Allowable Decrease (Obj Coeff)</th>\n",
       "    </tr>\n",
       "  </thead>\n",
       "  <tbody>\n",
       "    <tr>\n",
       "      <th>0</th>\n",
       "      <td>Q1_IBM_Prod</td>\n",
       "      <td>0.000000e+00</td>\n",
       "      <td>-2.354837</td>\n",
       "      <td>2.354837</td>\n",
       "      <td>-inf</td>\n",
       "    </tr>\n",
       "    <tr>\n",
       "      <th>1</th>\n",
       "      <td>Q2_IBM_Prod</td>\n",
       "      <td>6.973550e+03</td>\n",
       "      <td>0.000000</td>\n",
       "      <td>2.424315</td>\n",
       "      <td>-53.780680</td>\n",
       "    </tr>\n",
       "    <tr>\n",
       "      <th>2</th>\n",
       "      <td>Q3_IBM_Prod</td>\n",
       "      <td>1.682166e+04</td>\n",
       "      <td>0.000000</td>\n",
       "      <td>1.903405</td>\n",
       "      <td>-26.354820</td>\n",
       "    </tr>\n",
       "    <tr>\n",
       "      <th>3</th>\n",
       "      <td>Q4_IBM_Prod</td>\n",
       "      <td>1.219859e+04</td>\n",
       "      <td>0.000000</td>\n",
       "      <td>14.768862</td>\n",
       "      <td>-11.420428</td>\n",
       "    </tr>\n",
       "    <tr>\n",
       "      <th>4</th>\n",
       "      <td>Q1_Mac_Prod</td>\n",
       "      <td>8.316414e+03</td>\n",
       "      <td>0.000000</td>\n",
       "      <td>4215.578722</td>\n",
       "      <td>-2.648749</td>\n",
       "    </tr>\n",
       "    <tr>\n",
       "      <th>5</th>\n",
       "      <td>Q2_Mac_Prod</td>\n",
       "      <td>1.440000e+04</td>\n",
       "      <td>0.000000</td>\n",
       "      <td>inf</td>\n",
       "      <td>-2.726899</td>\n",
       "    </tr>\n",
       "    <tr>\n",
       "      <th>6</th>\n",
       "      <td>Q3_Mac_Prod</td>\n",
       "      <td>1.440000e+04</td>\n",
       "      <td>0.000000</td>\n",
       "      <td>inf</td>\n",
       "      <td>-2.089137</td>\n",
       "    </tr>\n",
       "    <tr>\n",
       "      <th>7</th>\n",
       "      <td>Q4_Mac_Prod</td>\n",
       "      <td>0.000000e+00</td>\n",
       "      <td>-15.033249</td>\n",
       "      <td>15.033249</td>\n",
       "      <td>-inf</td>\n",
       "    </tr>\n",
       "    <tr>\n",
       "      <th>8</th>\n",
       "      <td>Q1_IBM_Ad</td>\n",
       "      <td>0.000000e+00</td>\n",
       "      <td>-22.231710</td>\n",
       "      <td>22.231710</td>\n",
       "      <td>-inf</td>\n",
       "    </tr>\n",
       "    <tr>\n",
       "      <th>9</th>\n",
       "      <td>Q2_IBM_Ad</td>\n",
       "      <td>0.000000e+00</td>\n",
       "      <td>-16.941193</td>\n",
       "      <td>16.941193</td>\n",
       "      <td>-inf</td>\n",
       "    </tr>\n",
       "    <tr>\n",
       "      <th>10</th>\n",
       "      <td>Q3_IBM_Ad</td>\n",
       "      <td>2.021093e+02</td>\n",
       "      <td>0.000000</td>\n",
       "      <td>7.613619</td>\n",
       "      <td>-105.419279</td>\n",
       "    </tr>\n",
       "    <tr>\n",
       "      <th>11</th>\n",
       "      <td>Q4_IBM_Ad</td>\n",
       "      <td>0.000000e+00</td>\n",
       "      <td>-10.150000</td>\n",
       "      <td>10.150000</td>\n",
       "      <td>-inf</td>\n",
       "    </tr>\n",
       "    <tr>\n",
       "      <th>12</th>\n",
       "      <td>Q1_Mac_Ad</td>\n",
       "      <td>2.429104e+03</td>\n",
       "      <td>0.000000</td>\n",
       "      <td>22.733178</td>\n",
       "      <td>-10.594997</td>\n",
       "    </tr>\n",
       "    <tr>\n",
       "      <th>13</th>\n",
       "      <td>Q2_Mac_Ad</td>\n",
       "      <td>4.264552e+03</td>\n",
       "      <td>0.000000</td>\n",
       "      <td>16.941193</td>\n",
       "      <td>-10.907594</td>\n",
       "    </tr>\n",
       "    <tr>\n",
       "      <th>14</th>\n",
       "      <td>Q3_Mac_Ad</td>\n",
       "      <td>5.132276e+03</td>\n",
       "      <td>0.000000</td>\n",
       "      <td>12.932965</td>\n",
       "      <td>-8.356547</td>\n",
       "    </tr>\n",
       "    <tr>\n",
       "      <th>15</th>\n",
       "      <td>Q4_Mac_Ad</td>\n",
       "      <td>1.916138e+03</td>\n",
       "      <td>0.000000</td>\n",
       "      <td>10.150000</td>\n",
       "      <td>-16.713095</td>\n",
       "    </tr>\n",
       "    <tr>\n",
       "      <th>16</th>\n",
       "      <td>Q1_IBM_sales</td>\n",
       "      <td>5.000000e+03</td>\n",
       "      <td>0.000000</td>\n",
       "      <td>4.709674</td>\n",
       "      <td>-22.231710</td>\n",
       "    </tr>\n",
       "    <tr>\n",
       "      <th>17</th>\n",
       "      <td>Q2_IBM_sales</td>\n",
       "      <td>5.986775e+03</td>\n",
       "      <td>0.000000</td>\n",
       "      <td>4.848630</td>\n",
       "      <td>-16.140248</td>\n",
       "    </tr>\n",
       "    <tr>\n",
       "      <th>18</th>\n",
       "      <td>Q3_IBM_sales</td>\n",
       "      <td>1.120211e+04</td>\n",
       "      <td>0.000000</td>\n",
       "      <td>7.613619</td>\n",
       "      <td>-12.627242</td>\n",
       "    </tr>\n",
       "    <tr>\n",
       "      <th>19</th>\n",
       "      <td>Q4_IBM_sales</td>\n",
       "      <td>1.180141e+04</td>\n",
       "      <td>0.000000</td>\n",
       "      <td>11.420428</td>\n",
       "      <td>-10.150000</td>\n",
       "    </tr>\n",
       "    <tr>\n",
       "      <th>20</th>\n",
       "      <td>Q1_Mac_sales</td>\n",
       "      <td>4.229104e+03</td>\n",
       "      <td>0.000000</td>\n",
       "      <td>inf</td>\n",
       "      <td>-10.594997</td>\n",
       "    </tr>\n",
       "    <tr>\n",
       "      <th>21</th>\n",
       "      <td>Q2_Mac_sales</td>\n",
       "      <td>6.264552e+03</td>\n",
       "      <td>0.000000</td>\n",
       "      <td>488.787188</td>\n",
       "      <td>-10.907594</td>\n",
       "    </tr>\n",
       "    <tr>\n",
       "      <th>22</th>\n",
       "      <td>Q3_Mac_sales</td>\n",
       "      <td>7.332276e+03</td>\n",
       "      <td>0.000000</td>\n",
       "      <td>397.654470</td>\n",
       "      <td>-8.356547</td>\n",
       "    </tr>\n",
       "    <tr>\n",
       "      <th>23</th>\n",
       "      <td>Q4_Mac_sales</td>\n",
       "      <td>4.316138e+03</td>\n",
       "      <td>0.000000</td>\n",
       "      <td>60.132995</td>\n",
       "      <td>-10.150000</td>\n",
       "    </tr>\n",
       "    <tr>\n",
       "      <th>24</th>\n",
       "      <td>Q1_Ad_cost</td>\n",
       "      <td>2.429104e+04</td>\n",
       "      <td>0.000000</td>\n",
       "      <td>1.273318</td>\n",
       "      <td>-2.059500</td>\n",
       "    </tr>\n",
       "    <tr>\n",
       "      <th>25</th>\n",
       "      <td>Q2_Ad_cost</td>\n",
       "      <td>4.264552e+04</td>\n",
       "      <td>0.000000</td>\n",
       "      <td>0.694119</td>\n",
       "      <td>-2.090759</td>\n",
       "    </tr>\n",
       "    <tr>\n",
       "      <th>26</th>\n",
       "      <td>Q3_Ad_cost</td>\n",
       "      <td>5.334385e+04</td>\n",
       "      <td>0.000000</td>\n",
       "      <td>0.325386</td>\n",
       "      <td>-11.541928</td>\n",
       "    </tr>\n",
       "    <tr>\n",
       "      <th>27</th>\n",
       "      <td>Q4_Ad_cost</td>\n",
       "      <td>1.916138e+04</td>\n",
       "      <td>0.000000</td>\n",
       "      <td>0.015000</td>\n",
       "      <td>-2.671309</td>\n",
       "    </tr>\n",
       "    <tr>\n",
       "      <th>28</th>\n",
       "      <td>Q1_IBM_inventory</td>\n",
       "      <td>5.000000e+03</td>\n",
       "      <td>0.000000</td>\n",
       "      <td>4.709674</td>\n",
       "      <td>-inf</td>\n",
       "    </tr>\n",
       "    <tr>\n",
       "      <th>29</th>\n",
       "      <td>Q2_IBM_inventory</td>\n",
       "      <td>5.986775e+03</td>\n",
       "      <td>0.000000</td>\n",
       "      <td>4.848630</td>\n",
       "      <td>-130.102261</td>\n",
       "    </tr>\n",
       "    <tr>\n",
       "      <th>30</th>\n",
       "      <td>Q3_IBM_inventory</td>\n",
       "      <td>1.140422e+04</td>\n",
       "      <td>0.000000</td>\n",
       "      <td>3.806809</td>\n",
       "      <td>-52.709639</td>\n",
       "    </tr>\n",
       "    <tr>\n",
       "      <th>31</th>\n",
       "      <td>Q4_IBM_inventory</td>\n",
       "      <td>1.180141e+04</td>\n",
       "      <td>0.000000</td>\n",
       "      <td>11.420428</td>\n",
       "      <td>-158.128918</td>\n",
       "    </tr>\n",
       "    <tr>\n",
       "      <th>32</th>\n",
       "      <td>Q1_Mac_inventory</td>\n",
       "      <td>6.658207e+03</td>\n",
       "      <td>0.000000</td>\n",
       "      <td>122.196797</td>\n",
       "      <td>-5.297498</td>\n",
       "    </tr>\n",
       "    <tr>\n",
       "      <th>33</th>\n",
       "      <td>Q2_Mac_inventory</td>\n",
       "      <td>1.052910e+04</td>\n",
       "      <td>0.000000</td>\n",
       "      <td>99.413617</td>\n",
       "      <td>-5.453797</td>\n",
       "    </tr>\n",
       "    <tr>\n",
       "      <th>34</th>\n",
       "      <td>Q3_Mac_inventory</td>\n",
       "      <td>1.246455e+04</td>\n",
       "      <td>0.000000</td>\n",
       "      <td>103.163543</td>\n",
       "      <td>-4.178274</td>\n",
       "    </tr>\n",
       "    <tr>\n",
       "      <th>35</th>\n",
       "      <td>Q4_Mac_inventory</td>\n",
       "      <td>6.232276e+03</td>\n",
       "      <td>0.000000</td>\n",
       "      <td>30.066497</td>\n",
       "      <td>-8.356547</td>\n",
       "    </tr>\n",
       "    <tr>\n",
       "      <th>36</th>\n",
       "      <td>Q1_carry_cost</td>\n",
       "      <td>4.215340e+04</td>\n",
       "      <td>0.000000</td>\n",
       "      <td>72.325411</td>\n",
       "      <td>-158.726907</td>\n",
       "    </tr>\n",
       "    <tr>\n",
       "      <th>37</th>\n",
       "      <td>Q2_carry_cost</td>\n",
       "      <td>4.528762e+04</td>\n",
       "      <td>0.000000</td>\n",
       "      <td>57.770327</td>\n",
       "      <td>-73.991171</td>\n",
       "    </tr>\n",
       "    <tr>\n",
       "      <th>38</th>\n",
       "      <td>Q3_carry_cost</td>\n",
       "      <td>6.466628e+04</td>\n",
       "      <td>0.000000</td>\n",
       "      <td>52.451291</td>\n",
       "      <td>-35.791841</td>\n",
       "    </tr>\n",
       "    <tr>\n",
       "      <th>39</th>\n",
       "      <td>Q4_carry_cost</td>\n",
       "      <td>6.631478e+04</td>\n",
       "      <td>0.000000</td>\n",
       "      <td>17.041703</td>\n",
       "      <td>-15.782987</td>\n",
       "    </tr>\n",
       "    <tr>\n",
       "      <th>40</th>\n",
       "      <td>Q1_variable_cost</td>\n",
       "      <td>9.148056e+05</td>\n",
       "      <td>0.000000</td>\n",
       "      <td>0.067525</td>\n",
       "      <td>-2.194781</td>\n",
       "    </tr>\n",
       "    <tr>\n",
       "      <th>41</th>\n",
       "      <td>Q2_variable_cost</td>\n",
       "      <td>2.281355e+06</td>\n",
       "      <td>0.000000</td>\n",
       "      <td>0.099022</td>\n",
       "      <td>-1.537807</td>\n",
       "    </tr>\n",
       "    <tr>\n",
       "      <th>42</th>\n",
       "      <td>Q3_variable_cost</td>\n",
       "      <td>3.266166e+06</td>\n",
       "      <td>0.000000</td>\n",
       "      <td>0.146555</td>\n",
       "      <td>-1.263548</td>\n",
       "    </tr>\n",
       "    <tr>\n",
       "      <th>43</th>\n",
       "      <td>Q4_variable_cost</td>\n",
       "      <td>1.219859e+06</td>\n",
       "      <td>0.000000</td>\n",
       "      <td>-0.863334</td>\n",
       "      <td>-1.114204</td>\n",
       "    </tr>\n",
       "    <tr>\n",
       "      <th>44</th>\n",
       "      <td>Q1_total_revenue</td>\n",
       "      <td>2.206641e+06</td>\n",
       "      <td>0.000000</td>\n",
       "      <td>inf</td>\n",
       "      <td>0.370777</td>\n",
       "    </tr>\n",
       "    <tr>\n",
       "      <th>45</th>\n",
       "      <td>Q2_total_revenue</td>\n",
       "      <td>3.153506e+06</td>\n",
       "      <td>0.000000</td>\n",
       "      <td>inf</td>\n",
       "      <td>0.495631</td>\n",
       "    </tr>\n",
       "    <tr>\n",
       "      <th>46</th>\n",
       "      <td>Q3_total_revenue</td>\n",
       "      <td>4.488649e+06</td>\n",
       "      <td>0.000000</td>\n",
       "      <td>inf</td>\n",
       "      <td>0.698802</td>\n",
       "    </tr>\n",
       "    <tr>\n",
       "      <th>47</th>\n",
       "      <td>Q4_total_revenue</td>\n",
       "      <td>3.311701e+06</td>\n",
       "      <td>0.000000</td>\n",
       "      <td>1.150332</td>\n",
       "      <td>0.883855</td>\n",
       "    </tr>\n",
       "    <tr>\n",
       "      <th>48</th>\n",
       "      <td>Q1_IBM_receivables</td>\n",
       "      <td>6.562500e+05</td>\n",
       "      <td>0.000000</td>\n",
       "      <td>0.035883</td>\n",
       "      <td>-0.860724</td>\n",
       "    </tr>\n",
       "    <tr>\n",
       "      <th>49</th>\n",
       "      <td>Q2_IBM_receivables</td>\n",
       "      <td>9.607642e+05</td>\n",
       "      <td>0.000000</td>\n",
       "      <td>0.036942</td>\n",
       "      <td>-0.674672</td>\n",
       "    </tr>\n",
       "    <tr>\n",
       "      <th>50</th>\n",
       "      <td>Q3_IBM_receivables</td>\n",
       "      <td>1.732591e+06</td>\n",
       "      <td>0.000000</td>\n",
       "      <td>0.029004</td>\n",
       "      <td>-0.401597</td>\n",
       "    </tr>\n",
       "    <tr>\n",
       "      <th>51</th>\n",
       "      <td>Q4_IBM_receivables</td>\n",
       "      <td>1.988263e+06</td>\n",
       "      <td>0.000000</td>\n",
       "      <td>0.048340</td>\n",
       "      <td>-0.669329</td>\n",
       "    </tr>\n",
       "    <tr>\n",
       "      <th>52</th>\n",
       "      <td>Q1_Mac_receivables</td>\n",
       "      <td>1.065313e+06</td>\n",
       "      <td>0.000000</td>\n",
       "      <td>inf</td>\n",
       "      <td>-0.033109</td>\n",
       "    </tr>\n",
       "    <tr>\n",
       "      <th>53</th>\n",
       "      <td>Q2_Mac_receivables</td>\n",
       "      <td>1.831137e+06</td>\n",
       "      <td>0.000000</td>\n",
       "      <td>2.083928</td>\n",
       "      <td>-0.034086</td>\n",
       "    </tr>\n",
       "    <tr>\n",
       "      <th>54</th>\n",
       "      <td>Q3_Mac_receivables</td>\n",
       "      <td>2.292551e+06</td>\n",
       "      <td>0.000000</td>\n",
       "      <td>1.714028</td>\n",
       "      <td>-0.026114</td>\n",
       "    </tr>\n",
       "    <tr>\n",
       "      <th>55</th>\n",
       "      <td>Q4_Mac_receivables</td>\n",
       "      <td>1.403308e+06</td>\n",
       "      <td>0.000000</td>\n",
       "      <td>0.187916</td>\n",
       "      <td>-0.040963</td>\n",
       "    </tr>\n",
       "    <tr>\n",
       "      <th>56</th>\n",
       "      <td>Q1_amount_borrowed</td>\n",
       "      <td>7.500000e+05</td>\n",
       "      <td>0.000000</td>\n",
       "      <td>inf</td>\n",
       "      <td>-1.159642</td>\n",
       "    </tr>\n",
       "    <tr>\n",
       "      <th>57</th>\n",
       "      <td>Q2_amount_borrowed</td>\n",
       "      <td>7.500000e+05</td>\n",
       "      <td>0.000000</td>\n",
       "      <td>inf</td>\n",
       "      <td>-0.645621</td>\n",
       "    </tr>\n",
       "    <tr>\n",
       "      <th>58</th>\n",
       "      <td>Q3_amount_borrowed</td>\n",
       "      <td>7.500000e+05</td>\n",
       "      <td>0.000000</td>\n",
       "      <td>inf</td>\n",
       "      <td>-0.255234</td>\n",
       "    </tr>\n",
       "    <tr>\n",
       "      <th>59</th>\n",
       "      <td>Q4_amount_borrowed</td>\n",
       "      <td>0.000000e+00</td>\n",
       "      <td>0.000000</td>\n",
       "      <td>0.022500</td>\n",
       "      <td>-0.015000</td>\n",
       "    </tr>\n",
       "    <tr>\n",
       "      <th>60</th>\n",
       "      <td>Q1_amount_payback</td>\n",
       "      <td>7.500000e+05</td>\n",
       "      <td>0.000000</td>\n",
       "      <td>inf</td>\n",
       "      <td>-0.694119</td>\n",
       "    </tr>\n",
       "    <tr>\n",
       "      <th>61</th>\n",
       "      <td>Q2_amount_payback</td>\n",
       "      <td>7.500000e+05</td>\n",
       "      <td>0.000000</td>\n",
       "      <td>inf</td>\n",
       "      <td>-0.293296</td>\n",
       "    </tr>\n",
       "    <tr>\n",
       "      <th>62</th>\n",
       "      <td>Q3_amount_payback</td>\n",
       "      <td>7.500000e+05</td>\n",
       "      <td>0.000000</td>\n",
       "      <td>inf</td>\n",
       "      <td>-0.015000</td>\n",
       "    </tr>\n",
       "    <tr>\n",
       "      <th>63</th>\n",
       "      <td>Q4_amount_payback</td>\n",
       "      <td>0.000000e+00</td>\n",
       "      <td>0.000000</td>\n",
       "      <td>-0.000000</td>\n",
       "      <td>-inf</td>\n",
       "    </tr>\n",
       "    <tr>\n",
       "      <th>64</th>\n",
       "      <td>Q1_interest_expense</td>\n",
       "      <td>2.812500e+04</td>\n",
       "      <td>0.000000</td>\n",
       "      <td>inf</td>\n",
       "      <td>-31.923775</td>\n",
       "    </tr>\n",
       "    <tr>\n",
       "      <th>65</th>\n",
       "      <td>Q2_interest_expense</td>\n",
       "      <td>2.812500e+04</td>\n",
       "      <td>0.000000</td>\n",
       "      <td>inf</td>\n",
       "      <td>-18.216553</td>\n",
       "    </tr>\n",
       "    <tr>\n",
       "      <th>66</th>\n",
       "      <td>Q3_interest_expense</td>\n",
       "      <td>2.812500e+04</td>\n",
       "      <td>0.000000</td>\n",
       "      <td>inf</td>\n",
       "      <td>-7.806239</td>\n",
       "    </tr>\n",
       "    <tr>\n",
       "      <th>67</th>\n",
       "      <td>Q4_interest_expense</td>\n",
       "      <td>0.000000e+00</td>\n",
       "      <td>0.000000</td>\n",
       "      <td>-0.400000</td>\n",
       "      <td>-inf</td>\n",
       "    </tr>\n",
       "    <tr>\n",
       "      <th>68</th>\n",
       "      <td>Q1_surplus_return</td>\n",
       "      <td>-2.842171e-13</td>\n",
       "      <td>0.000000</td>\n",
       "      <td>80.850615</td>\n",
       "      <td>-inf</td>\n",
       "    </tr>\n",
       "    <tr>\n",
       "      <th>69</th>\n",
       "      <td>Q2_surplus_return</td>\n",
       "      <td>7.275958e-12</td>\n",
       "      <td>0.000000</td>\n",
       "      <td>45.981327</td>\n",
       "      <td>-inf</td>\n",
       "    </tr>\n",
       "    <tr>\n",
       "      <th>70</th>\n",
       "      <td>Q3_surplus_return</td>\n",
       "      <td>0.000000e+00</td>\n",
       "      <td>0.000000</td>\n",
       "      <td>19.538097</td>\n",
       "      <td>-inf</td>\n",
       "    </tr>\n",
       "    <tr>\n",
       "      <th>71</th>\n",
       "      <td>Q4_surplus_return</td>\n",
       "      <td>3.812521e+04</td>\n",
       "      <td>0.000000</td>\n",
       "      <td>2.500000</td>\n",
       "      <td>-0.000000</td>\n",
       "    </tr>\n",
       "    <tr>\n",
       "      <th>72</th>\n",
       "      <td>Q1_cash</td>\n",
       "      <td>3.812500e+05</td>\n",
       "      <td>0.000000</td>\n",
       "      <td>inf</td>\n",
       "      <td>-inf</td>\n",
       "    </tr>\n",
       "    <tr>\n",
       "      <th>73</th>\n",
       "      <td>Q2_cash</td>\n",
       "      <td>1.797413e+06</td>\n",
       "      <td>0.000000</td>\n",
       "      <td>inf</td>\n",
       "      <td>-0.428308</td>\n",
       "    </tr>\n",
       "    <tr>\n",
       "      <th>74</th>\n",
       "      <td>Q3_cash</td>\n",
       "      <td>2.812301e+06</td>\n",
       "      <td>0.000000</td>\n",
       "      <td>1.122345</td>\n",
       "      <td>-0.440945</td>\n",
       "    </tr>\n",
       "    <tr>\n",
       "      <th>75</th>\n",
       "      <td>Q4_cash</td>\n",
       "      <td>4.025141e+06</td>\n",
       "      <td>0.000000</td>\n",
       "      <td>1.765351</td>\n",
       "      <td>-0.262079</td>\n",
       "    </tr>\n",
       "    <tr>\n",
       "      <th>76</th>\n",
       "      <td>Q1_debt</td>\n",
       "      <td>7.500000e+05</td>\n",
       "      <td>0.000000</td>\n",
       "      <td>inf</td>\n",
       "      <td>-1.159642</td>\n",
       "    </tr>\n",
       "    <tr>\n",
       "      <th>77</th>\n",
       "      <td>Q2_debt</td>\n",
       "      <td>7.500000e+05</td>\n",
       "      <td>0.000000</td>\n",
       "      <td>inf</td>\n",
       "      <td>-0.645621</td>\n",
       "    </tr>\n",
       "    <tr>\n",
       "      <th>78</th>\n",
       "      <td>Q3_debt</td>\n",
       "      <td>7.500000e+05</td>\n",
       "      <td>0.000000</td>\n",
       "      <td>inf</td>\n",
       "      <td>-0.255234</td>\n",
       "    </tr>\n",
       "    <tr>\n",
       "      <th>79</th>\n",
       "      <td>Q4_debt</td>\n",
       "      <td>0.000000e+00</td>\n",
       "      <td>-0.022500</td>\n",
       "      <td>0.022500</td>\n",
       "      <td>-inf</td>\n",
       "    </tr>\n",
       "  </tbody>\n",
       "</table>\n",
       "</div>"
      ],
      "text/plain": [
       "               Variable  Optimal Value  Reduced Cost  \\\n",
       "0           Q1_IBM_Prod   0.000000e+00     -2.354837   \n",
       "1           Q2_IBM_Prod   6.973550e+03      0.000000   \n",
       "2           Q3_IBM_Prod   1.682166e+04      0.000000   \n",
       "3           Q4_IBM_Prod   1.219859e+04      0.000000   \n",
       "4           Q1_Mac_Prod   8.316414e+03      0.000000   \n",
       "5           Q2_Mac_Prod   1.440000e+04      0.000000   \n",
       "6           Q3_Mac_Prod   1.440000e+04      0.000000   \n",
       "7           Q4_Mac_Prod   0.000000e+00    -15.033249   \n",
       "8             Q1_IBM_Ad   0.000000e+00    -22.231710   \n",
       "9             Q2_IBM_Ad   0.000000e+00    -16.941193   \n",
       "10            Q3_IBM_Ad   2.021093e+02      0.000000   \n",
       "11            Q4_IBM_Ad   0.000000e+00    -10.150000   \n",
       "12            Q1_Mac_Ad   2.429104e+03      0.000000   \n",
       "13            Q2_Mac_Ad   4.264552e+03      0.000000   \n",
       "14            Q3_Mac_Ad   5.132276e+03      0.000000   \n",
       "15            Q4_Mac_Ad   1.916138e+03      0.000000   \n",
       "16         Q1_IBM_sales   5.000000e+03      0.000000   \n",
       "17         Q2_IBM_sales   5.986775e+03      0.000000   \n",
       "18         Q3_IBM_sales   1.120211e+04      0.000000   \n",
       "19         Q4_IBM_sales   1.180141e+04      0.000000   \n",
       "20         Q1_Mac_sales   4.229104e+03      0.000000   \n",
       "21         Q2_Mac_sales   6.264552e+03      0.000000   \n",
       "22         Q3_Mac_sales   7.332276e+03      0.000000   \n",
       "23         Q4_Mac_sales   4.316138e+03      0.000000   \n",
       "24           Q1_Ad_cost   2.429104e+04      0.000000   \n",
       "25           Q2_Ad_cost   4.264552e+04      0.000000   \n",
       "26           Q3_Ad_cost   5.334385e+04      0.000000   \n",
       "27           Q4_Ad_cost   1.916138e+04      0.000000   \n",
       "28     Q1_IBM_inventory   5.000000e+03      0.000000   \n",
       "29     Q2_IBM_inventory   5.986775e+03      0.000000   \n",
       "30     Q3_IBM_inventory   1.140422e+04      0.000000   \n",
       "31     Q4_IBM_inventory   1.180141e+04      0.000000   \n",
       "32     Q1_Mac_inventory   6.658207e+03      0.000000   \n",
       "33     Q2_Mac_inventory   1.052910e+04      0.000000   \n",
       "34     Q3_Mac_inventory   1.246455e+04      0.000000   \n",
       "35     Q4_Mac_inventory   6.232276e+03      0.000000   \n",
       "36        Q1_carry_cost   4.215340e+04      0.000000   \n",
       "37        Q2_carry_cost   4.528762e+04      0.000000   \n",
       "38        Q3_carry_cost   6.466628e+04      0.000000   \n",
       "39        Q4_carry_cost   6.631478e+04      0.000000   \n",
       "40     Q1_variable_cost   9.148056e+05      0.000000   \n",
       "41     Q2_variable_cost   2.281355e+06      0.000000   \n",
       "42     Q3_variable_cost   3.266166e+06      0.000000   \n",
       "43     Q4_variable_cost   1.219859e+06      0.000000   \n",
       "44     Q1_total_revenue   2.206641e+06      0.000000   \n",
       "45     Q2_total_revenue   3.153506e+06      0.000000   \n",
       "46     Q3_total_revenue   4.488649e+06      0.000000   \n",
       "47     Q4_total_revenue   3.311701e+06      0.000000   \n",
       "48   Q1_IBM_receivables   6.562500e+05      0.000000   \n",
       "49   Q2_IBM_receivables   9.607642e+05      0.000000   \n",
       "50   Q3_IBM_receivables   1.732591e+06      0.000000   \n",
       "51   Q4_IBM_receivables   1.988263e+06      0.000000   \n",
       "52   Q1_Mac_receivables   1.065313e+06      0.000000   \n",
       "53   Q2_Mac_receivables   1.831137e+06      0.000000   \n",
       "54   Q3_Mac_receivables   2.292551e+06      0.000000   \n",
       "55   Q4_Mac_receivables   1.403308e+06      0.000000   \n",
       "56   Q1_amount_borrowed   7.500000e+05      0.000000   \n",
       "57   Q2_amount_borrowed   7.500000e+05      0.000000   \n",
       "58   Q3_amount_borrowed   7.500000e+05      0.000000   \n",
       "59   Q4_amount_borrowed   0.000000e+00      0.000000   \n",
       "60    Q1_amount_payback   7.500000e+05      0.000000   \n",
       "61    Q2_amount_payback   7.500000e+05      0.000000   \n",
       "62    Q3_amount_payback   7.500000e+05      0.000000   \n",
       "63    Q4_amount_payback   0.000000e+00      0.000000   \n",
       "64  Q1_interest_expense   2.812500e+04      0.000000   \n",
       "65  Q2_interest_expense   2.812500e+04      0.000000   \n",
       "66  Q3_interest_expense   2.812500e+04      0.000000   \n",
       "67  Q4_interest_expense   0.000000e+00      0.000000   \n",
       "68    Q1_surplus_return  -2.842171e-13      0.000000   \n",
       "69    Q2_surplus_return   7.275958e-12      0.000000   \n",
       "70    Q3_surplus_return   0.000000e+00      0.000000   \n",
       "71    Q4_surplus_return   3.812521e+04      0.000000   \n",
       "72              Q1_cash   3.812500e+05      0.000000   \n",
       "73              Q2_cash   1.797413e+06      0.000000   \n",
       "74              Q3_cash   2.812301e+06      0.000000   \n",
       "75              Q4_cash   4.025141e+06      0.000000   \n",
       "76              Q1_debt   7.500000e+05      0.000000   \n",
       "77              Q2_debt   7.500000e+05      0.000000   \n",
       "78              Q3_debt   7.500000e+05      0.000000   \n",
       "79              Q4_debt   0.000000e+00     -0.022500   \n",
       "\n",
       "    Allowable Increase (Obj Coeff)  Allowable Decrease (Obj Coeff)  \n",
       "0                         2.354837                            -inf  \n",
       "1                         2.424315                      -53.780680  \n",
       "2                         1.903405                      -26.354820  \n",
       "3                        14.768862                      -11.420428  \n",
       "4                      4215.578722                       -2.648749  \n",
       "5                              inf                       -2.726899  \n",
       "6                              inf                       -2.089137  \n",
       "7                        15.033249                            -inf  \n",
       "8                        22.231710                            -inf  \n",
       "9                        16.941193                            -inf  \n",
       "10                        7.613619                     -105.419279  \n",
       "11                       10.150000                            -inf  \n",
       "12                       22.733178                      -10.594997  \n",
       "13                       16.941193                      -10.907594  \n",
       "14                       12.932965                       -8.356547  \n",
       "15                       10.150000                      -16.713095  \n",
       "16                        4.709674                      -22.231710  \n",
       "17                        4.848630                      -16.140248  \n",
       "18                        7.613619                      -12.627242  \n",
       "19                       11.420428                      -10.150000  \n",
       "20                             inf                      -10.594997  \n",
       "21                      488.787188                      -10.907594  \n",
       "22                      397.654470                       -8.356547  \n",
       "23                       60.132995                      -10.150000  \n",
       "24                        1.273318                       -2.059500  \n",
       "25                        0.694119                       -2.090759  \n",
       "26                        0.325386                      -11.541928  \n",
       "27                        0.015000                       -2.671309  \n",
       "28                        4.709674                            -inf  \n",
       "29                        4.848630                     -130.102261  \n",
       "30                        3.806809                      -52.709639  \n",
       "31                       11.420428                     -158.128918  \n",
       "32                      122.196797                       -5.297498  \n",
       "33                       99.413617                       -5.453797  \n",
       "34                      103.163543                       -4.178274  \n",
       "35                       30.066497                       -8.356547  \n",
       "36                       72.325411                     -158.726907  \n",
       "37                       57.770327                      -73.991171  \n",
       "38                       52.451291                      -35.791841  \n",
       "39                       17.041703                      -15.782987  \n",
       "40                        0.067525                       -2.194781  \n",
       "41                        0.099022                       -1.537807  \n",
       "42                        0.146555                       -1.263548  \n",
       "43                       -0.863334                       -1.114204  \n",
       "44                             inf                        0.370777  \n",
       "45                             inf                        0.495631  \n",
       "46                             inf                        0.698802  \n",
       "47                        1.150332                        0.883855  \n",
       "48                        0.035883                       -0.860724  \n",
       "49                        0.036942                       -0.674672  \n",
       "50                        0.029004                       -0.401597  \n",
       "51                        0.048340                       -0.669329  \n",
       "52                             inf                       -0.033109  \n",
       "53                        2.083928                       -0.034086  \n",
       "54                        1.714028                       -0.026114  \n",
       "55                        0.187916                       -0.040963  \n",
       "56                             inf                       -1.159642  \n",
       "57                             inf                       -0.645621  \n",
       "58                             inf                       -0.255234  \n",
       "59                        0.022500                       -0.015000  \n",
       "60                             inf                       -0.694119  \n",
       "61                             inf                       -0.293296  \n",
       "62                             inf                       -0.015000  \n",
       "63                       -0.000000                            -inf  \n",
       "64                             inf                      -31.923775  \n",
       "65                             inf                      -18.216553  \n",
       "66                             inf                       -7.806239  \n",
       "67                       -0.400000                            -inf  \n",
       "68                       80.850615                            -inf  \n",
       "69                       45.981327                            -inf  \n",
       "70                       19.538097                            -inf  \n",
       "71                        2.500000                       -0.000000  \n",
       "72                             inf                            -inf  \n",
       "73                             inf                       -0.428308  \n",
       "74                        1.122345                       -0.440945  \n",
       "75                        1.765351                       -0.262079  \n",
       "76                             inf                       -1.159642  \n",
       "77                             inf                       -0.645621  \n",
       "78                             inf                       -0.255234  \n",
       "79                        0.022500                            -inf  "
      ]
     },
     "execution_count": 241,
     "metadata": {},
     "output_type": "execute_result"
    }
   ],
   "source": [
    "pd.set_option('display.max_rows', variables_df.shape[0]+1)\n",
    "variables_df"
   ]
  },
  {
   "cell_type": "code",
   "execution_count": 242,
   "metadata": {
    "scrolled": false
   },
   "outputs": [
    {
     "data": {
      "text/html": [
       "<div>\n",
       "<style scoped>\n",
       "    .dataframe tbody tr th:only-of-type {\n",
       "        vertical-align: middle;\n",
       "    }\n",
       "\n",
       "    .dataframe tbody tr th {\n",
       "        vertical-align: top;\n",
       "    }\n",
       "\n",
       "    .dataframe thead th {\n",
       "        text-align: right;\n",
       "    }\n",
       "</style>\n",
       "<table border=\"1\" class=\"dataframe\">\n",
       "  <thead>\n",
       "    <tr style=\"text-align: right;\">\n",
       "      <th></th>\n",
       "      <th>Constraint</th>\n",
       "      <th>RHS Constraint</th>\n",
       "      <th>Slack</th>\n",
       "      <th>Final Value</th>\n",
       "      <th>Shadow Price</th>\n",
       "      <th>Allowable Increase (RHS)</th>\n",
       "      <th>Allowable Decrease (RHS)</th>\n",
       "    </tr>\n",
       "  </thead>\n",
       "  <tbody>\n",
       "    <tr>\n",
       "      <th>0</th>\n",
       "      <td>Define_Q1_Ad_cost</td>\n",
       "      <td>0.0</td>\n",
       "      <td>0.000000e+00</td>\n",
       "      <td>0.000000e+00</td>\n",
       "      <td>-2.223171</td>\n",
       "      <td>6.850485e+04</td>\n",
       "      <td>-2.483895e+04</td>\n",
       "    </tr>\n",
       "    <tr>\n",
       "      <th>1</th>\n",
       "      <td>Define_Q2_Ad_cost</td>\n",
       "      <td>0.0</td>\n",
       "      <td>0.000000e+00</td>\n",
       "      <td>0.000000e+00</td>\n",
       "      <td>-1.694119</td>\n",
       "      <td>7.322309e+04</td>\n",
       "      <td>-4.264552e+04</td>\n",
       "    </tr>\n",
       "    <tr>\n",
       "      <th>2</th>\n",
       "      <td>Define_Q3_Ad_cost</td>\n",
       "      <td>0.0</td>\n",
       "      <td>0.000000e+00</td>\n",
       "      <td>0.000000e+00</td>\n",
       "      <td>-1.293296</td>\n",
       "      <td>8.347719e+04</td>\n",
       "      <td>-5.466742e+04</td>\n",
       "    </tr>\n",
       "    <tr>\n",
       "      <th>3</th>\n",
       "      <td>Define_Q4_Ad_cost</td>\n",
       "      <td>0.0</td>\n",
       "      <td>0.000000e+00</td>\n",
       "      <td>0.000000e+00</td>\n",
       "      <td>-1.015000</td>\n",
       "      <td>2.541681e+06</td>\n",
       "      <td>-1.916138e+04</td>\n",
       "    </tr>\n",
       "    <tr>\n",
       "      <th>4</th>\n",
       "      <td>Define_Q1_IBM_inventory</td>\n",
       "      <td>10000.0</td>\n",
       "      <td>0.000000e+00</td>\n",
       "      <td>1.000000e+04</td>\n",
       "      <td>219.962265</td>\n",
       "      <td>1.083398e+04</td>\n",
       "      <td>9.434170e+03</td>\n",
       "    </tr>\n",
       "    <tr>\n",
       "      <th>5</th>\n",
       "      <td>Define_Q2_IBM_inventory</td>\n",
       "      <td>0.0</td>\n",
       "      <td>0.000000e+00</td>\n",
       "      <td>0.000000e+00</td>\n",
       "      <td>169.411935</td>\n",
       "      <td>1.079242e+03</td>\n",
       "      <td>-7.322309e+02</td>\n",
       "    </tr>\n",
       "    <tr>\n",
       "      <th>6</th>\n",
       "      <td>Define_Q3_IBM_inventory</td>\n",
       "      <td>0.0</td>\n",
       "      <td>0.000000e+00</td>\n",
       "      <td>0.000000e+00</td>\n",
       "      <td>129.329645</td>\n",
       "      <td>1.230378e+03</td>\n",
       "      <td>-8.347719e+02</td>\n",
       "    </tr>\n",
       "    <tr>\n",
       "      <th>7</th>\n",
       "      <td>Define_Q4_IBM_inventory</td>\n",
       "      <td>0.0</td>\n",
       "      <td>0.000000e+00</td>\n",
       "      <td>0.000000e+00</td>\n",
       "      <td>91.654092</td>\n",
       "      <td>5.957814e+02</td>\n",
       "      <td>-3.540422e+04</td>\n",
       "    </tr>\n",
       "    <tr>\n",
       "      <th>8</th>\n",
       "      <td>Define_Q1_Mac_inventory</td>\n",
       "      <td>5000.0</td>\n",
       "      <td>0.000000e+00</td>\n",
       "      <td>5.000000e+03</td>\n",
       "      <td>244.548812</td>\n",
       "      <td>5.917908e+03</td>\n",
       "      <td>4.377229e+03</td>\n",
       "    </tr>\n",
       "    <tr>\n",
       "      <th>9</th>\n",
       "      <td>Define_Q2_Mac_inventory</td>\n",
       "      <td>0.0</td>\n",
       "      <td>0.000000e+00</td>\n",
       "      <td>0.000000e+00</td>\n",
       "      <td>189.080027</td>\n",
       "      <td>1.669439e+03</td>\n",
       "      <td>-1.132661e+03</td>\n",
       "    </tr>\n",
       "    <tr>\n",
       "      <th>10</th>\n",
       "      <td>Define_Q3_Mac_inventory</td>\n",
       "      <td>0.0</td>\n",
       "      <td>0.000000e+00</td>\n",
       "      <td>0.000000e+00</td>\n",
       "      <td>144.351746</td>\n",
       "      <td>2.504378e+04</td>\n",
       "      <td>-5.729104e+03</td>\n",
       "    </tr>\n",
       "    <tr>\n",
       "      <th>11</th>\n",
       "      <td>Define_Q4_Mac_inventory</td>\n",
       "      <td>0.0</td>\n",
       "      <td>0.000000e+00</td>\n",
       "      <td>0.000000e+00</td>\n",
       "      <td>96.616751</td>\n",
       "      <td>2.806109e+04</td>\n",
       "      <td>-2.864552e+03</td>\n",
       "    </tr>\n",
       "    <tr>\n",
       "      <th>12</th>\n",
       "      <td>Define_Q1_carry_cost</td>\n",
       "      <td>23482.5</td>\n",
       "      <td>0.000000e+00</td>\n",
       "      <td>2.348250e+04</td>\n",
       "      <td>-2.223171</td>\n",
       "      <td>9.198735e+04</td>\n",
       "      <td>-1.898312e+04</td>\n",
       "    </tr>\n",
       "    <tr>\n",
       "      <th>13</th>\n",
       "      <td>Define_Q2_carry_cost</td>\n",
       "      <td>0.0</td>\n",
       "      <td>0.000000e+00</td>\n",
       "      <td>0.000000e+00</td>\n",
       "      <td>-1.694119</td>\n",
       "      <td>7.322309e+04</td>\n",
       "      <td>-4.563067e+04</td>\n",
       "    </tr>\n",
       "    <tr>\n",
       "      <th>14</th>\n",
       "      <td>Define_Q3_carry_cost</td>\n",
       "      <td>0.0</td>\n",
       "      <td>0.000000e+00</td>\n",
       "      <td>0.000000e+00</td>\n",
       "      <td>-1.293296</td>\n",
       "      <td>8.347719e+04</td>\n",
       "      <td>-6.514418e+04</td>\n",
       "    </tr>\n",
       "    <tr>\n",
       "      <th>15</th>\n",
       "      <td>Define_Q4_carry_cost</td>\n",
       "      <td>0.0</td>\n",
       "      <td>0.000000e+00</td>\n",
       "      <td>0.000000e+00</td>\n",
       "      <td>-1.015000</td>\n",
       "      <td>2.541681e+06</td>\n",
       "      <td>-6.631478e+04</td>\n",
       "    </tr>\n",
       "    <tr>\n",
       "      <th>16</th>\n",
       "      <td>Define_Q1_variable_cost</td>\n",
       "      <td>0.0</td>\n",
       "      <td>0.000000e+00</td>\n",
       "      <td>0.000000e+00</td>\n",
       "      <td>-2.223171</td>\n",
       "      <td>6.850485e+04</td>\n",
       "      <td>-1.009699e+05</td>\n",
       "    </tr>\n",
       "    <tr>\n",
       "      <th>17</th>\n",
       "      <td>Define_Q2_variable_cost</td>\n",
       "      <td>0.0</td>\n",
       "      <td>0.000000e+00</td>\n",
       "      <td>0.000000e+00</td>\n",
       "      <td>-1.694119</td>\n",
       "      <td>7.322309e+04</td>\n",
       "      <td>-1.079242e+05</td>\n",
       "    </tr>\n",
       "    <tr>\n",
       "      <th>18</th>\n",
       "      <td>Define_Q3_variable_cost</td>\n",
       "      <td>0.0</td>\n",
       "      <td>0.000000e+00</td>\n",
       "      <td>0.000000e+00</td>\n",
       "      <td>-1.293296</td>\n",
       "      <td>8.347719e+04</td>\n",
       "      <td>-1.230378e+05</td>\n",
       "    </tr>\n",
       "    <tr>\n",
       "      <th>19</th>\n",
       "      <td>Define_Q4_variable_cost</td>\n",
       "      <td>0.0</td>\n",
       "      <td>0.000000e+00</td>\n",
       "      <td>0.000000e+00</td>\n",
       "      <td>-1.015000</td>\n",
       "      <td>2.541681e+06</td>\n",
       "      <td>-1.219859e+06</td>\n",
       "    </tr>\n",
       "    <tr>\n",
       "      <th>20</th>\n",
       "      <td>Define_Q1_revenus</td>\n",
       "      <td>0.0</td>\n",
       "      <td>0.000000e+00</td>\n",
       "      <td>0.000000e+00</td>\n",
       "      <td>1.000000</td>\n",
       "      <td>inf</td>\n",
       "      <td>-2.206641e+06</td>\n",
       "    </tr>\n",
       "    <tr>\n",
       "      <th>21</th>\n",
       "      <td>Define_Q2_revenus</td>\n",
       "      <td>0.0</td>\n",
       "      <td>0.000000e+00</td>\n",
       "      <td>0.000000e+00</td>\n",
       "      <td>1.000000</td>\n",
       "      <td>inf</td>\n",
       "      <td>-3.153506e+06</td>\n",
       "    </tr>\n",
       "    <tr>\n",
       "      <th>22</th>\n",
       "      <td>Define_Q3_revenus</td>\n",
       "      <td>0.0</td>\n",
       "      <td>0.000000e+00</td>\n",
       "      <td>0.000000e+00</td>\n",
       "      <td>1.000000</td>\n",
       "      <td>inf</td>\n",
       "      <td>-4.488649e+06</td>\n",
       "    </tr>\n",
       "    <tr>\n",
       "      <th>23</th>\n",
       "      <td>Define_Q4_revenus</td>\n",
       "      <td>0.0</td>\n",
       "      <td>0.000000e+00</td>\n",
       "      <td>0.000000e+00</td>\n",
       "      <td>1.000000</td>\n",
       "      <td>inf</td>\n",
       "      <td>-3.311701e+06</td>\n",
       "    </tr>\n",
       "    <tr>\n",
       "      <th>24</th>\n",
       "      <td>Define_Q1_IBM_receivables</td>\n",
       "      <td>0.0</td>\n",
       "      <td>0.000000e+00</td>\n",
       "      <td>0.000000e+00</td>\n",
       "      <td>0.694119</td>\n",
       "      <td>1.079242e+05</td>\n",
       "      <td>-7.322309e+04</td>\n",
       "    </tr>\n",
       "    <tr>\n",
       "      <th>25</th>\n",
       "      <td>Define_Q2_IBM_receivables</td>\n",
       "      <td>0.0</td>\n",
       "      <td>0.000000e+00</td>\n",
       "      <td>0.000000e+00</td>\n",
       "      <td>0.293296</td>\n",
       "      <td>1.230378e+05</td>\n",
       "      <td>-8.347719e+04</td>\n",
       "    </tr>\n",
       "    <tr>\n",
       "      <th>26</th>\n",
       "      <td>Define_Q3_IBM_receivables</td>\n",
       "      <td>0.0</td>\n",
       "      <td>0.000000e+00</td>\n",
       "      <td>0.000000e+00</td>\n",
       "      <td>0.015000</td>\n",
       "      <td>inf</td>\n",
       "      <td>-1.732591e+06</td>\n",
       "    </tr>\n",
       "    <tr>\n",
       "      <th>27</th>\n",
       "      <td>Define_Q4_IBM_receivables</td>\n",
       "      <td>0.0</td>\n",
       "      <td>0.000000e+00</td>\n",
       "      <td>0.000000e+00</td>\n",
       "      <td>0.000000</td>\n",
       "      <td>inf</td>\n",
       "      <td>-1.988263e+06</td>\n",
       "    </tr>\n",
       "    <tr>\n",
       "      <th>28</th>\n",
       "      <td>Define_Q1_Mac_receivables</td>\n",
       "      <td>0.0</td>\n",
       "      <td>0.000000e+00</td>\n",
       "      <td>0.000000e+00</td>\n",
       "      <td>0.694119</td>\n",
       "      <td>1.079242e+05</td>\n",
       "      <td>-7.322309e+04</td>\n",
       "    </tr>\n",
       "    <tr>\n",
       "      <th>29</th>\n",
       "      <td>Define_Q2_Mac_receivables</td>\n",
       "      <td>0.0</td>\n",
       "      <td>0.000000e+00</td>\n",
       "      <td>0.000000e+00</td>\n",
       "      <td>0.293296</td>\n",
       "      <td>1.230378e+05</td>\n",
       "      <td>-8.347719e+04</td>\n",
       "    </tr>\n",
       "    <tr>\n",
       "      <th>30</th>\n",
       "      <td>Define_Q3_Mac_receivables</td>\n",
       "      <td>0.0</td>\n",
       "      <td>0.000000e+00</td>\n",
       "      <td>0.000000e+00</td>\n",
       "      <td>0.015000</td>\n",
       "      <td>inf</td>\n",
       "      <td>-2.292551e+06</td>\n",
       "    </tr>\n",
       "    <tr>\n",
       "      <th>31</th>\n",
       "      <td>Define_Q4_Mac_receivables</td>\n",
       "      <td>0.0</td>\n",
       "      <td>0.000000e+00</td>\n",
       "      <td>0.000000e+00</td>\n",
       "      <td>0.000000</td>\n",
       "      <td>inf</td>\n",
       "      <td>-1.403308e+06</td>\n",
       "    </tr>\n",
       "    <tr>\n",
       "      <th>32</th>\n",
       "      <td>Define_Q1_cash</td>\n",
       "      <td>381250.0</td>\n",
       "      <td>0.000000e+00</td>\n",
       "      <td>3.812500e+05</td>\n",
       "      <td>1.223171</td>\n",
       "      <td>4.822199e+05</td>\n",
       "      <td>3.127452e+05</td>\n",
       "    </tr>\n",
       "    <tr>\n",
       "      <th>33</th>\n",
       "      <td>Define_Q2_cash</td>\n",
       "      <td>75850.0</td>\n",
       "      <td>0.000000e+00</td>\n",
       "      <td>7.585000e+04</td>\n",
       "      <td>0.694119</td>\n",
       "      <td>1.837742e+05</td>\n",
       "      <td>2.626909e+03</td>\n",
       "    </tr>\n",
       "    <tr>\n",
       "      <th>34</th>\n",
       "      <td>Define_Q3_cash</td>\n",
       "      <td>20400.0</td>\n",
       "      <td>0.000000e+00</td>\n",
       "      <td>2.040000e+04</td>\n",
       "      <td>0.293296</td>\n",
       "      <td>1.434378e+05</td>\n",
       "      <td>-6.307719e+04</td>\n",
       "    </tr>\n",
       "    <tr>\n",
       "      <th>35</th>\n",
       "      <td>Define_Q4_cash</td>\n",
       "      <td>0.0</td>\n",
       "      <td>0.000000e+00</td>\n",
       "      <td>0.000000e+00</td>\n",
       "      <td>0.015000</td>\n",
       "      <td>inf</td>\n",
       "      <td>-2.541681e+06</td>\n",
       "    </tr>\n",
       "    <tr>\n",
       "      <th>36</th>\n",
       "      <td>Q1_cost_amount_borrowed</td>\n",
       "      <td>150000.0</td>\n",
       "      <td>0.000000e+00</td>\n",
       "      <td>1.500000e+05</td>\n",
       "      <td>-1.197759</td>\n",
       "      <td>2.194799e+05</td>\n",
       "      <td>1.500000e+05</td>\n",
       "    </tr>\n",
       "    <tr>\n",
       "      <th>37</th>\n",
       "      <td>Q2_cost_amount_borrowed</td>\n",
       "      <td>150000.0</td>\n",
       "      <td>0.000000e+00</td>\n",
       "      <td>1.500000e+05</td>\n",
       "      <td>-0.674720</td>\n",
       "      <td>2.241994e+05</td>\n",
       "      <td>1.500000e+05</td>\n",
       "    </tr>\n",
       "    <tr>\n",
       "      <th>38</th>\n",
       "      <td>Q3_cost_amount_borrowed</td>\n",
       "      <td>150000.0</td>\n",
       "      <td>0.000000e+00</td>\n",
       "      <td>1.500000e+05</td>\n",
       "      <td>-0.278071</td>\n",
       "      <td>2.334772e+05</td>\n",
       "      <td>1.500000e+05</td>\n",
       "    </tr>\n",
       "    <tr>\n",
       "      <th>39</th>\n",
       "      <td>Q4_cost_amount_borrowed</td>\n",
       "      <td>150000.0</td>\n",
       "      <td>-2.541681e+06</td>\n",
       "      <td>2.691681e+06</td>\n",
       "      <td>0.000000</td>\n",
       "      <td>2.691681e+06</td>\n",
       "      <td>-inf</td>\n",
       "    </tr>\n",
       "    <tr>\n",
       "      <th>40</th>\n",
       "      <td>Define_Q1_surplus_return</td>\n",
       "      <td>-2250.0</td>\n",
       "      <td>0.000000e+00</td>\n",
       "      <td>-2.250000e+03</td>\n",
       "      <td>1.694119</td>\n",
       "      <td>1.056742e+05</td>\n",
       "      <td>-2.250000e+03</td>\n",
       "    </tr>\n",
       "    <tr>\n",
       "      <th>41</th>\n",
       "      <td>Define_Q2_surplus_return</td>\n",
       "      <td>-2250.0</td>\n",
       "      <td>0.000000e+00</td>\n",
       "      <td>-2.250000e+03</td>\n",
       "      <td>1.293296</td>\n",
       "      <td>1.207878e+05</td>\n",
       "      <td>-2.250000e+03</td>\n",
       "    </tr>\n",
       "    <tr>\n",
       "      <th>42</th>\n",
       "      <td>Define_Q3_surplus_return</td>\n",
       "      <td>-2250.0</td>\n",
       "      <td>0.000000e+00</td>\n",
       "      <td>-2.250000e+03</td>\n",
       "      <td>1.015000</td>\n",
       "      <td>inf</td>\n",
       "      <td>-2.250000e+03</td>\n",
       "    </tr>\n",
       "    <tr>\n",
       "      <th>43</th>\n",
       "      <td>Define_Q4_surplus_return</td>\n",
       "      <td>-2250.0</td>\n",
       "      <td>0.000000e+00</td>\n",
       "      <td>-2.250000e+03</td>\n",
       "      <td>1.000000</td>\n",
       "      <td>inf</td>\n",
       "      <td>-4.037521e+04</td>\n",
       "    </tr>\n",
       "    <tr>\n",
       "      <th>44</th>\n",
       "      <td>Define_Q1_debt</td>\n",
       "      <td>0.0</td>\n",
       "      <td>0.000000e+00</td>\n",
       "      <td>0.000000e+00</td>\n",
       "      <td>0.630590</td>\n",
       "      <td>1.121290e+05</td>\n",
       "      <td>-7.607594e+04</td>\n",
       "    </tr>\n",
       "    <tr>\n",
       "      <th>45</th>\n",
       "      <td>Define_Q2_debt</td>\n",
       "      <td>0.0</td>\n",
       "      <td>0.000000e+00</td>\n",
       "      <td>0.000000e+00</td>\n",
       "      <td>0.244798</td>\n",
       "      <td>1.278315e+05</td>\n",
       "      <td>-8.672955e+04</td>\n",
       "    </tr>\n",
       "    <tr>\n",
       "      <th>46</th>\n",
       "      <td>Define_Q3_debt</td>\n",
       "      <td>0.0</td>\n",
       "      <td>0.000000e+00</td>\n",
       "      <td>0.000000e+00</td>\n",
       "      <td>-0.023062</td>\n",
       "      <td>inf</td>\n",
       "      <td>0.000000e+00</td>\n",
       "    </tr>\n",
       "    <tr>\n",
       "      <th>47</th>\n",
       "      <td>Define_Q4_debt</td>\n",
       "      <td>0.0</td>\n",
       "      <td>0.000000e+00</td>\n",
       "      <td>0.000000e+00</td>\n",
       "      <td>-0.015000</td>\n",
       "      <td>0.000000e+00</td>\n",
       "      <td>-7.500000e+05</td>\n",
       "    </tr>\n",
       "    <tr>\n",
       "      <th>48</th>\n",
       "      <td>Define_Q1_interest_expense</td>\n",
       "      <td>0.0</td>\n",
       "      <td>0.000000e+00</td>\n",
       "      <td>0.000000e+00</td>\n",
       "      <td>-1.694119</td>\n",
       "      <td>7.322309e+04</td>\n",
       "      <td>-2.812500e+04</td>\n",
       "    </tr>\n",
       "    <tr>\n",
       "      <th>49</th>\n",
       "      <td>Define_Q2_interest_expense</td>\n",
       "      <td>0.0</td>\n",
       "      <td>0.000000e+00</td>\n",
       "      <td>0.000000e+00</td>\n",
       "      <td>-1.293296</td>\n",
       "      <td>8.347719e+04</td>\n",
       "      <td>-2.812500e+04</td>\n",
       "    </tr>\n",
       "    <tr>\n",
       "      <th>50</th>\n",
       "      <td>Define_Q3_interest_expense</td>\n",
       "      <td>0.0</td>\n",
       "      <td>0.000000e+00</td>\n",
       "      <td>0.000000e+00</td>\n",
       "      <td>-1.015000</td>\n",
       "      <td>2.541681e+06</td>\n",
       "      <td>-2.812500e+04</td>\n",
       "    </tr>\n",
       "    <tr>\n",
       "      <th>51</th>\n",
       "      <td>Define_Q4_interest_expense</td>\n",
       "      <td>0.0</td>\n",
       "      <td>0.000000e+00</td>\n",
       "      <td>0.000000e+00</td>\n",
       "      <td>-1.000000</td>\n",
       "      <td>inf</td>\n",
       "      <td>0.000000e+00</td>\n",
       "    </tr>\n",
       "    <tr>\n",
       "      <th>52</th>\n",
       "      <td>Q1_payback_limit</td>\n",
       "      <td>0.0</td>\n",
       "      <td>0.000000e+00</td>\n",
       "      <td>0.000000e+00</td>\n",
       "      <td>0.694119</td>\n",
       "      <td>1.079242e+05</td>\n",
       "      <td>-7.322309e+04</td>\n",
       "    </tr>\n",
       "    <tr>\n",
       "      <th>53</th>\n",
       "      <td>Q2_payback_limit</td>\n",
       "      <td>0.0</td>\n",
       "      <td>0.000000e+00</td>\n",
       "      <td>0.000000e+00</td>\n",
       "      <td>0.293296</td>\n",
       "      <td>1.230378e+05</td>\n",
       "      <td>-8.347719e+04</td>\n",
       "    </tr>\n",
       "    <tr>\n",
       "      <th>54</th>\n",
       "      <td>Q3_payback_limit</td>\n",
       "      <td>0.0</td>\n",
       "      <td>0.000000e+00</td>\n",
       "      <td>0.000000e+00</td>\n",
       "      <td>0.015000</td>\n",
       "      <td>inf</td>\n",
       "      <td>0.000000e+00</td>\n",
       "    </tr>\n",
       "    <tr>\n",
       "      <th>55</th>\n",
       "      <td>Q4_payback_limit</td>\n",
       "      <td>0.0</td>\n",
       "      <td>0.000000e+00</td>\n",
       "      <td>0.000000e+00</td>\n",
       "      <td>0.000000</td>\n",
       "      <td>inf</td>\n",
       "      <td>0.000000e+00</td>\n",
       "    </tr>\n",
       "    <tr>\n",
       "      <th>56</th>\n",
       "      <td>Q1_amount_borrowed</td>\n",
       "      <td>750000.0</td>\n",
       "      <td>0.000000e+00</td>\n",
       "      <td>7.500000e+05</td>\n",
       "      <td>1.159642</td>\n",
       "      <td>8.546411e+05</td>\n",
       "      <td>6.790044e+05</td>\n",
       "    </tr>\n",
       "    <tr>\n",
       "      <th>57</th>\n",
       "      <td>Q2_amount_borrowed</td>\n",
       "      <td>750000.0</td>\n",
       "      <td>0.000000e+00</td>\n",
       "      <td>7.500000e+05</td>\n",
       "      <td>0.645621</td>\n",
       "      <td>8.615949e+05</td>\n",
       "      <td>6.742864e+05</td>\n",
       "    </tr>\n",
       "    <tr>\n",
       "      <th>58</th>\n",
       "      <td>Q3_amount_borrowed</td>\n",
       "      <td>750000.0</td>\n",
       "      <td>0.000000e+00</td>\n",
       "      <td>7.500000e+05</td>\n",
       "      <td>0.255234</td>\n",
       "      <td>8.730378e+05</td>\n",
       "      <td>6.665228e+05</td>\n",
       "    </tr>\n",
       "    <tr>\n",
       "      <th>59</th>\n",
       "      <td>Q4_amount_borrowed</td>\n",
       "      <td>750000.0</td>\n",
       "      <td>7.500000e+05</td>\n",
       "      <td>0.000000e+00</td>\n",
       "      <td>0.000000</td>\n",
       "      <td>inf</td>\n",
       "      <td>0.000000e+00</td>\n",
       "    </tr>\n",
       "    <tr>\n",
       "      <th>60</th>\n",
       "      <td>Q1_IBM_Max_Prod</td>\n",
       "      <td>43200.0</td>\n",
       "      <td>4.320000e+04</td>\n",
       "      <td>0.000000e+00</td>\n",
       "      <td>0.000000</td>\n",
       "      <td>inf</td>\n",
       "      <td>0.000000e+00</td>\n",
       "    </tr>\n",
       "    <tr>\n",
       "      <th>61</th>\n",
       "      <td>Q2_IBM_Max_Prod</td>\n",
       "      <td>43200.0</td>\n",
       "      <td>3.622645e+04</td>\n",
       "      <td>6.973550e+03</td>\n",
       "      <td>0.000000</td>\n",
       "      <td>inf</td>\n",
       "      <td>6.973550e+03</td>\n",
       "    </tr>\n",
       "    <tr>\n",
       "      <th>62</th>\n",
       "      <td>Q3_IBM_Max_Prod</td>\n",
       "      <td>43200.0</td>\n",
       "      <td>2.637834e+04</td>\n",
       "      <td>1.682166e+04</td>\n",
       "      <td>0.000000</td>\n",
       "      <td>inf</td>\n",
       "      <td>1.682166e+04</td>\n",
       "    </tr>\n",
       "    <tr>\n",
       "      <th>63</th>\n",
       "      <td>Q4_IBM_Max_Prod</td>\n",
       "      <td>47520.0</td>\n",
       "      <td>3.532141e+04</td>\n",
       "      <td>1.219859e+04</td>\n",
       "      <td>0.000000</td>\n",
       "      <td>inf</td>\n",
       "      <td>1.219859e+04</td>\n",
       "    </tr>\n",
       "    <tr>\n",
       "      <th>64</th>\n",
       "      <td>Q1_Mac_Max_Prod</td>\n",
       "      <td>14400.0</td>\n",
       "      <td>6.083586e+03</td>\n",
       "      <td>8.316414e+03</td>\n",
       "      <td>0.000000</td>\n",
       "      <td>inf</td>\n",
       "      <td>8.316414e+03</td>\n",
       "    </tr>\n",
       "    <tr>\n",
       "      <th>65</th>\n",
       "      <td>Q2_Mac_Max_Prod</td>\n",
       "      <td>14400.0</td>\n",
       "      <td>0.000000e+00</td>\n",
       "      <td>1.440000e+04</td>\n",
       "      <td>2.726899</td>\n",
       "      <td>1.601451e+04</td>\n",
       "      <td>1.202035e+04</td>\n",
       "    </tr>\n",
       "    <tr>\n",
       "      <th>66</th>\n",
       "      <td>Q3_Mac_Max_Prod</td>\n",
       "      <td>14400.0</td>\n",
       "      <td>0.000000e+00</td>\n",
       "      <td>1.440000e+04</td>\n",
       "      <td>2.089137</td>\n",
       "      <td>1.513656e+04</td>\n",
       "      <td>1.331437e+04</td>\n",
       "    </tr>\n",
       "    <tr>\n",
       "      <th>67</th>\n",
       "      <td>Q4_Mac_Max_Prod</td>\n",
       "      <td>15840.0</td>\n",
       "      <td>1.584000e+04</td>\n",
       "      <td>0.000000e+00</td>\n",
       "      <td>0.000000</td>\n",
       "      <td>inf</td>\n",
       "      <td>0.000000e+00</td>\n",
       "    </tr>\n",
       "    <tr>\n",
       "      <th>68</th>\n",
       "      <td>Q1_IBM_Max_Sales</td>\n",
       "      <td>9000.0</td>\n",
       "      <td>4.000000e+03</td>\n",
       "      <td>5.000000e+03</td>\n",
       "      <td>0.000000</td>\n",
       "      <td>inf</td>\n",
       "      <td>5.000000e+03</td>\n",
       "    </tr>\n",
       "    <tr>\n",
       "      <th>69</th>\n",
       "      <td>Q2_IBM_Max_Sales</td>\n",
       "      <td>10000.0</td>\n",
       "      <td>4.013225e+03</td>\n",
       "      <td>5.986775e+03</td>\n",
       "      <td>0.000000</td>\n",
       "      <td>inf</td>\n",
       "      <td>5.986775e+03</td>\n",
       "    </tr>\n",
       "    <tr>\n",
       "      <th>70</th>\n",
       "      <td>Q3_IBM_Max_Sales</td>\n",
       "      <td>11000.0</td>\n",
       "      <td>0.000000e+00</td>\n",
       "      <td>1.100000e+04</td>\n",
       "      <td>6.466482</td>\n",
       "      <td>1.141425e+04</td>\n",
       "      <td>-1.087461e+04</td>\n",
       "    </tr>\n",
       "    <tr>\n",
       "      <th>71</th>\n",
       "      <td>Q4_IBM_Max_Sales</td>\n",
       "      <td>12000.0</td>\n",
       "      <td>1.985938e+02</td>\n",
       "      <td>1.180141e+04</td>\n",
       "      <td>0.000000</td>\n",
       "      <td>inf</td>\n",
       "      <td>1.180141e+04</td>\n",
       "    </tr>\n",
       "    <tr>\n",
       "      <th>72</th>\n",
       "      <td>Q1_Mac_Max_Sales</td>\n",
       "      <td>1800.0</td>\n",
       "      <td>0.000000e+00</td>\n",
       "      <td>1.800000e+03</td>\n",
       "      <td>11.115855</td>\n",
       "      <td>6.767791e+03</td>\n",
       "      <td>-6.475656e+03</td>\n",
       "    </tr>\n",
       "    <tr>\n",
       "      <th>73</th>\n",
       "      <td>Q2_Mac_Max_Sales</td>\n",
       "      <td>2000.0</td>\n",
       "      <td>0.000000e+00</td>\n",
       "      <td>2.000000e+03</td>\n",
       "      <td>8.470597</td>\n",
       "      <td>1.052910e+04</td>\n",
       "      <td>-1.052910e+04</td>\n",
       "    </tr>\n",
       "    <tr>\n",
       "      <th>74</th>\n",
       "      <td>Q3_Mac_Max_Sales</td>\n",
       "      <td>2200.0</td>\n",
       "      <td>0.000000e+00</td>\n",
       "      <td>2.200000e+03</td>\n",
       "      <td>6.466482</td>\n",
       "      <td>1.246455e+04</td>\n",
       "      <td>-1.246455e+04</td>\n",
       "    </tr>\n",
       "    <tr>\n",
       "      <th>75</th>\n",
       "      <td>Q4_Mac_Max_Sales</td>\n",
       "      <td>2400.0</td>\n",
       "      <td>0.000000e+00</td>\n",
       "      <td>2.400000e+03</td>\n",
       "      <td>5.075000</td>\n",
       "      <td>6.232276e+03</td>\n",
       "      <td>-6.232276e+03</td>\n",
       "    </tr>\n",
       "    <tr>\n",
       "      <th>76</th>\n",
       "      <td>Q1_IBM_Sales_Inventory</td>\n",
       "      <td>0.0</td>\n",
       "      <td>0.000000e+00</td>\n",
       "      <td>0.000000e+00</td>\n",
       "      <td>56.485025</td>\n",
       "      <td>3.316405e+03</td>\n",
       "      <td>-2.250074e+03</td>\n",
       "    </tr>\n",
       "    <tr>\n",
       "      <th>77</th>\n",
       "      <td>Q2_IBM_Sales_Inventory</td>\n",
       "      <td>0.0</td>\n",
       "      <td>0.000000e+00</td>\n",
       "      <td>0.000000e+00</td>\n",
       "      <td>44.608225</td>\n",
       "      <td>7.134248e+03</td>\n",
       "      <td>-4.840358e+03</td>\n",
       "    </tr>\n",
       "    <tr>\n",
       "      <th>78</th>\n",
       "      <td>Q3_IBM_Sales_Inventory</td>\n",
       "      <td>0.0</td>\n",
       "      <td>0.000000e+00</td>\n",
       "      <td>0.000000e+00</td>\n",
       "      <td>41.172623</td>\n",
       "      <td>2.242993e+04</td>\n",
       "      <td>-8.223139e+02</td>\n",
       "    </tr>\n",
       "    <tr>\n",
       "      <th>79</th>\n",
       "      <td>Q4_IBM_Sales_Inventory</td>\n",
       "      <td>0.0</td>\n",
       "      <td>0.000000e+00</td>\n",
       "      <td>0.000000e+00</td>\n",
       "      <td>83.345908</td>\n",
       "      <td>2.978907e+02</td>\n",
       "      <td>-1.770211e+04</td>\n",
       "    </tr>\n",
       "    <tr>\n",
       "      <th>80</th>\n",
       "      <td>Q1_Mac_Sales_Inventory</td>\n",
       "      <td>0.0</td>\n",
       "      <td>0.000000e+00</td>\n",
       "      <td>0.000000e+00</td>\n",
       "      <td>61.996950</td>\n",
       "      <td>1.914330e+03</td>\n",
       "      <td>-1.298811e+03</td>\n",
       "    </tr>\n",
       "    <tr>\n",
       "      <th>81</th>\n",
       "      <td>Q2_Mac_Sales_Inventory</td>\n",
       "      <td>0.0</td>\n",
       "      <td>0.000000e+00</td>\n",
       "      <td>0.000000e+00</td>\n",
       "      <td>49.706809</td>\n",
       "      <td>1.526529e+03</td>\n",
       "      <td>-1.035701e+03</td>\n",
       "    </tr>\n",
       "    <tr>\n",
       "      <th>82</th>\n",
       "      <td>Q3_Mac_Sales_Inventory</td>\n",
       "      <td>0.0</td>\n",
       "      <td>0.000000e+00</td>\n",
       "      <td>0.000000e+00</td>\n",
       "      <td>51.581771</td>\n",
       "      <td>5.729104e+03</td>\n",
       "      <td>-2.052910e+04</td>\n",
       "    </tr>\n",
       "    <tr>\n",
       "      <th>83</th>\n",
       "      <td>Q4_Mac_Sales_Inventory</td>\n",
       "      <td>0.0</td>\n",
       "      <td>0.000000e+00</td>\n",
       "      <td>0.000000e+00</td>\n",
       "      <td>98.308249</td>\n",
       "      <td>2.864552e+03</td>\n",
       "      <td>-7.664552e+03</td>\n",
       "    </tr>\n",
       "    <tr>\n",
       "      <th>84</th>\n",
       "      <td>Q1_IBM_safety_inventory</td>\n",
       "      <td>-10000.0</td>\n",
       "      <td>-4.500000e+03</td>\n",
       "      <td>-5.500000e+03</td>\n",
       "      <td>0.000000</td>\n",
       "      <td>-5.500000e+03</td>\n",
       "      <td>-inf</td>\n",
       "    </tr>\n",
       "    <tr>\n",
       "      <th>85</th>\n",
       "      <td>Q2_IBM_safety_inventory</td>\n",
       "      <td>0.0</td>\n",
       "      <td>-5.388098e+03</td>\n",
       "      <td>5.388098e+03</td>\n",
       "      <td>0.000000</td>\n",
       "      <td>5.388098e+03</td>\n",
       "      <td>-inf</td>\n",
       "    </tr>\n",
       "    <tr>\n",
       "      <th>86</th>\n",
       "      <td>Q3_IBM_safety_inventory</td>\n",
       "      <td>0.0</td>\n",
       "      <td>-1.048612e+04</td>\n",
       "      <td>1.048612e+04</td>\n",
       "      <td>0.000000</td>\n",
       "      <td>1.048612e+04</td>\n",
       "      <td>-inf</td>\n",
       "    </tr>\n",
       "    <tr>\n",
       "      <th>87</th>\n",
       "      <td>Q4_IBM_safety_inventory</td>\n",
       "      <td>0.0</td>\n",
       "      <td>-1.062127e+04</td>\n",
       "      <td>1.062127e+04</td>\n",
       "      <td>0.000000</td>\n",
       "      <td>1.062127e+04</td>\n",
       "      <td>-inf</td>\n",
       "    </tr>\n",
       "    <tr>\n",
       "      <th>88</th>\n",
       "      <td>Q1_Mac_safety_inventory</td>\n",
       "      <td>-5000.0</td>\n",
       "      <td>-8.664400e+03</td>\n",
       "      <td>3.664400e+03</td>\n",
       "      <td>0.000000</td>\n",
       "      <td>3.664400e+03</td>\n",
       "      <td>-inf</td>\n",
       "    </tr>\n",
       "    <tr>\n",
       "      <th>89</th>\n",
       "      <td>Q2_Mac_safety_inventory</td>\n",
       "      <td>0.0</td>\n",
       "      <td>-1.416720e+04</td>\n",
       "      <td>1.416720e+04</td>\n",
       "      <td>0.000000</td>\n",
       "      <td>1.416720e+04</td>\n",
       "      <td>-inf</td>\n",
       "    </tr>\n",
       "    <tr>\n",
       "      <th>90</th>\n",
       "      <td>Q3_Mac_safety_inventory</td>\n",
       "      <td>0.0</td>\n",
       "      <td>-1.686360e+04</td>\n",
       "      <td>1.686360e+04</td>\n",
       "      <td>0.000000</td>\n",
       "      <td>1.686360e+04</td>\n",
       "      <td>-inf</td>\n",
       "    </tr>\n",
       "    <tr>\n",
       "      <th>91</th>\n",
       "      <td>Q4_Mac_safety_inventory</td>\n",
       "      <td>0.0</td>\n",
       "      <td>-7.716800e+03</td>\n",
       "      <td>7.716800e+03</td>\n",
       "      <td>0.000000</td>\n",
       "      <td>7.716800e+03</td>\n",
       "      <td>-inf</td>\n",
       "    </tr>\n",
       "    <tr>\n",
       "      <th>92</th>\n",
       "      <td>IBM_transition</td>\n",
       "      <td>24000.0</td>\n",
       "      <td>0.000000e+00</td>\n",
       "      <td>2.400000e+04</td>\n",
       "      <td>-9.845908</td>\n",
       "      <td>2.459578e+04</td>\n",
       "      <td>5.702109e+03</td>\n",
       "    </tr>\n",
       "    <tr>\n",
       "      <th>93</th>\n",
       "      <td>Mac_transition</td>\n",
       "      <td>4800.0</td>\n",
       "      <td>-1.432276e+03</td>\n",
       "      <td>6.232276e+03</td>\n",
       "      <td>0.000000</td>\n",
       "      <td>6.232276e+03</td>\n",
       "      <td>-inf</td>\n",
       "    </tr>\n",
       "  </tbody>\n",
       "</table>\n",
       "</div>"
      ],
      "text/plain": [
       "                    Constraint  RHS Constraint         Slack   Final Value  \\\n",
       "0            Define_Q1_Ad_cost             0.0  0.000000e+00  0.000000e+00   \n",
       "1            Define_Q2_Ad_cost             0.0  0.000000e+00  0.000000e+00   \n",
       "2            Define_Q3_Ad_cost             0.0  0.000000e+00  0.000000e+00   \n",
       "3            Define_Q4_Ad_cost             0.0  0.000000e+00  0.000000e+00   \n",
       "4      Define_Q1_IBM_inventory         10000.0  0.000000e+00  1.000000e+04   \n",
       "5      Define_Q2_IBM_inventory             0.0  0.000000e+00  0.000000e+00   \n",
       "6      Define_Q3_IBM_inventory             0.0  0.000000e+00  0.000000e+00   \n",
       "7      Define_Q4_IBM_inventory             0.0  0.000000e+00  0.000000e+00   \n",
       "8      Define_Q1_Mac_inventory          5000.0  0.000000e+00  5.000000e+03   \n",
       "9      Define_Q2_Mac_inventory             0.0  0.000000e+00  0.000000e+00   \n",
       "10     Define_Q3_Mac_inventory             0.0  0.000000e+00  0.000000e+00   \n",
       "11     Define_Q4_Mac_inventory             0.0  0.000000e+00  0.000000e+00   \n",
       "12        Define_Q1_carry_cost         23482.5  0.000000e+00  2.348250e+04   \n",
       "13        Define_Q2_carry_cost             0.0  0.000000e+00  0.000000e+00   \n",
       "14        Define_Q3_carry_cost             0.0  0.000000e+00  0.000000e+00   \n",
       "15        Define_Q4_carry_cost             0.0  0.000000e+00  0.000000e+00   \n",
       "16     Define_Q1_variable_cost             0.0  0.000000e+00  0.000000e+00   \n",
       "17     Define_Q2_variable_cost             0.0  0.000000e+00  0.000000e+00   \n",
       "18     Define_Q3_variable_cost             0.0  0.000000e+00  0.000000e+00   \n",
       "19     Define_Q4_variable_cost             0.0  0.000000e+00  0.000000e+00   \n",
       "20           Define_Q1_revenus             0.0  0.000000e+00  0.000000e+00   \n",
       "21           Define_Q2_revenus             0.0  0.000000e+00  0.000000e+00   \n",
       "22           Define_Q3_revenus             0.0  0.000000e+00  0.000000e+00   \n",
       "23           Define_Q4_revenus             0.0  0.000000e+00  0.000000e+00   \n",
       "24   Define_Q1_IBM_receivables             0.0  0.000000e+00  0.000000e+00   \n",
       "25   Define_Q2_IBM_receivables             0.0  0.000000e+00  0.000000e+00   \n",
       "26   Define_Q3_IBM_receivables             0.0  0.000000e+00  0.000000e+00   \n",
       "27   Define_Q4_IBM_receivables             0.0  0.000000e+00  0.000000e+00   \n",
       "28   Define_Q1_Mac_receivables             0.0  0.000000e+00  0.000000e+00   \n",
       "29   Define_Q2_Mac_receivables             0.0  0.000000e+00  0.000000e+00   \n",
       "30   Define_Q3_Mac_receivables             0.0  0.000000e+00  0.000000e+00   \n",
       "31   Define_Q4_Mac_receivables             0.0  0.000000e+00  0.000000e+00   \n",
       "32              Define_Q1_cash        381250.0  0.000000e+00  3.812500e+05   \n",
       "33              Define_Q2_cash         75850.0  0.000000e+00  7.585000e+04   \n",
       "34              Define_Q3_cash         20400.0  0.000000e+00  2.040000e+04   \n",
       "35              Define_Q4_cash             0.0  0.000000e+00  0.000000e+00   \n",
       "36     Q1_cost_amount_borrowed        150000.0  0.000000e+00  1.500000e+05   \n",
       "37     Q2_cost_amount_borrowed        150000.0  0.000000e+00  1.500000e+05   \n",
       "38     Q3_cost_amount_borrowed        150000.0  0.000000e+00  1.500000e+05   \n",
       "39     Q4_cost_amount_borrowed        150000.0 -2.541681e+06  2.691681e+06   \n",
       "40    Define_Q1_surplus_return         -2250.0  0.000000e+00 -2.250000e+03   \n",
       "41    Define_Q2_surplus_return         -2250.0  0.000000e+00 -2.250000e+03   \n",
       "42    Define_Q3_surplus_return         -2250.0  0.000000e+00 -2.250000e+03   \n",
       "43    Define_Q4_surplus_return         -2250.0  0.000000e+00 -2.250000e+03   \n",
       "44              Define_Q1_debt             0.0  0.000000e+00  0.000000e+00   \n",
       "45              Define_Q2_debt             0.0  0.000000e+00  0.000000e+00   \n",
       "46              Define_Q3_debt             0.0  0.000000e+00  0.000000e+00   \n",
       "47              Define_Q4_debt             0.0  0.000000e+00  0.000000e+00   \n",
       "48  Define_Q1_interest_expense             0.0  0.000000e+00  0.000000e+00   \n",
       "49  Define_Q2_interest_expense             0.0  0.000000e+00  0.000000e+00   \n",
       "50  Define_Q3_interest_expense             0.0  0.000000e+00  0.000000e+00   \n",
       "51  Define_Q4_interest_expense             0.0  0.000000e+00  0.000000e+00   \n",
       "52            Q1_payback_limit             0.0  0.000000e+00  0.000000e+00   \n",
       "53            Q2_payback_limit             0.0  0.000000e+00  0.000000e+00   \n",
       "54            Q3_payback_limit             0.0  0.000000e+00  0.000000e+00   \n",
       "55            Q4_payback_limit             0.0  0.000000e+00  0.000000e+00   \n",
       "56          Q1_amount_borrowed        750000.0  0.000000e+00  7.500000e+05   \n",
       "57          Q2_amount_borrowed        750000.0  0.000000e+00  7.500000e+05   \n",
       "58          Q3_amount_borrowed        750000.0  0.000000e+00  7.500000e+05   \n",
       "59          Q4_amount_borrowed        750000.0  7.500000e+05  0.000000e+00   \n",
       "60             Q1_IBM_Max_Prod         43200.0  4.320000e+04  0.000000e+00   \n",
       "61             Q2_IBM_Max_Prod         43200.0  3.622645e+04  6.973550e+03   \n",
       "62             Q3_IBM_Max_Prod         43200.0  2.637834e+04  1.682166e+04   \n",
       "63             Q4_IBM_Max_Prod         47520.0  3.532141e+04  1.219859e+04   \n",
       "64             Q1_Mac_Max_Prod         14400.0  6.083586e+03  8.316414e+03   \n",
       "65             Q2_Mac_Max_Prod         14400.0  0.000000e+00  1.440000e+04   \n",
       "66             Q3_Mac_Max_Prod         14400.0  0.000000e+00  1.440000e+04   \n",
       "67             Q4_Mac_Max_Prod         15840.0  1.584000e+04  0.000000e+00   \n",
       "68            Q1_IBM_Max_Sales          9000.0  4.000000e+03  5.000000e+03   \n",
       "69            Q2_IBM_Max_Sales         10000.0  4.013225e+03  5.986775e+03   \n",
       "70            Q3_IBM_Max_Sales         11000.0  0.000000e+00  1.100000e+04   \n",
       "71            Q4_IBM_Max_Sales         12000.0  1.985938e+02  1.180141e+04   \n",
       "72            Q1_Mac_Max_Sales          1800.0  0.000000e+00  1.800000e+03   \n",
       "73            Q2_Mac_Max_Sales          2000.0  0.000000e+00  2.000000e+03   \n",
       "74            Q3_Mac_Max_Sales          2200.0  0.000000e+00  2.200000e+03   \n",
       "75            Q4_Mac_Max_Sales          2400.0  0.000000e+00  2.400000e+03   \n",
       "76      Q1_IBM_Sales_Inventory             0.0  0.000000e+00  0.000000e+00   \n",
       "77      Q2_IBM_Sales_Inventory             0.0  0.000000e+00  0.000000e+00   \n",
       "78      Q3_IBM_Sales_Inventory             0.0  0.000000e+00  0.000000e+00   \n",
       "79      Q4_IBM_Sales_Inventory             0.0  0.000000e+00  0.000000e+00   \n",
       "80      Q1_Mac_Sales_Inventory             0.0  0.000000e+00  0.000000e+00   \n",
       "81      Q2_Mac_Sales_Inventory             0.0  0.000000e+00  0.000000e+00   \n",
       "82      Q3_Mac_Sales_Inventory             0.0  0.000000e+00  0.000000e+00   \n",
       "83      Q4_Mac_Sales_Inventory             0.0  0.000000e+00  0.000000e+00   \n",
       "84     Q1_IBM_safety_inventory        -10000.0 -4.500000e+03 -5.500000e+03   \n",
       "85     Q2_IBM_safety_inventory             0.0 -5.388098e+03  5.388098e+03   \n",
       "86     Q3_IBM_safety_inventory             0.0 -1.048612e+04  1.048612e+04   \n",
       "87     Q4_IBM_safety_inventory             0.0 -1.062127e+04  1.062127e+04   \n",
       "88     Q1_Mac_safety_inventory         -5000.0 -8.664400e+03  3.664400e+03   \n",
       "89     Q2_Mac_safety_inventory             0.0 -1.416720e+04  1.416720e+04   \n",
       "90     Q3_Mac_safety_inventory             0.0 -1.686360e+04  1.686360e+04   \n",
       "91     Q4_Mac_safety_inventory             0.0 -7.716800e+03  7.716800e+03   \n",
       "92              IBM_transition         24000.0  0.000000e+00  2.400000e+04   \n",
       "93              Mac_transition          4800.0 -1.432276e+03  6.232276e+03   \n",
       "\n",
       "    Shadow Price  Allowable Increase (RHS)  Allowable Decrease (RHS)  \n",
       "0      -2.223171              6.850485e+04             -2.483895e+04  \n",
       "1      -1.694119              7.322309e+04             -4.264552e+04  \n",
       "2      -1.293296              8.347719e+04             -5.466742e+04  \n",
       "3      -1.015000              2.541681e+06             -1.916138e+04  \n",
       "4     219.962265              1.083398e+04              9.434170e+03  \n",
       "5     169.411935              1.079242e+03             -7.322309e+02  \n",
       "6     129.329645              1.230378e+03             -8.347719e+02  \n",
       "7      91.654092              5.957814e+02             -3.540422e+04  \n",
       "8     244.548812              5.917908e+03              4.377229e+03  \n",
       "9     189.080027              1.669439e+03             -1.132661e+03  \n",
       "10    144.351746              2.504378e+04             -5.729104e+03  \n",
       "11     96.616751              2.806109e+04             -2.864552e+03  \n",
       "12     -2.223171              9.198735e+04             -1.898312e+04  \n",
       "13     -1.694119              7.322309e+04             -4.563067e+04  \n",
       "14     -1.293296              8.347719e+04             -6.514418e+04  \n",
       "15     -1.015000              2.541681e+06             -6.631478e+04  \n",
       "16     -2.223171              6.850485e+04             -1.009699e+05  \n",
       "17     -1.694119              7.322309e+04             -1.079242e+05  \n",
       "18     -1.293296              8.347719e+04             -1.230378e+05  \n",
       "19     -1.015000              2.541681e+06             -1.219859e+06  \n",
       "20      1.000000                       inf             -2.206641e+06  \n",
       "21      1.000000                       inf             -3.153506e+06  \n",
       "22      1.000000                       inf             -4.488649e+06  \n",
       "23      1.000000                       inf             -3.311701e+06  \n",
       "24      0.694119              1.079242e+05             -7.322309e+04  \n",
       "25      0.293296              1.230378e+05             -8.347719e+04  \n",
       "26      0.015000                       inf             -1.732591e+06  \n",
       "27      0.000000                       inf             -1.988263e+06  \n",
       "28      0.694119              1.079242e+05             -7.322309e+04  \n",
       "29      0.293296              1.230378e+05             -8.347719e+04  \n",
       "30      0.015000                       inf             -2.292551e+06  \n",
       "31      0.000000                       inf             -1.403308e+06  \n",
       "32      1.223171              4.822199e+05              3.127452e+05  \n",
       "33      0.694119              1.837742e+05              2.626909e+03  \n",
       "34      0.293296              1.434378e+05             -6.307719e+04  \n",
       "35      0.015000                       inf             -2.541681e+06  \n",
       "36     -1.197759              2.194799e+05              1.500000e+05  \n",
       "37     -0.674720              2.241994e+05              1.500000e+05  \n",
       "38     -0.278071              2.334772e+05              1.500000e+05  \n",
       "39      0.000000              2.691681e+06                      -inf  \n",
       "40      1.694119              1.056742e+05             -2.250000e+03  \n",
       "41      1.293296              1.207878e+05             -2.250000e+03  \n",
       "42      1.015000                       inf             -2.250000e+03  \n",
       "43      1.000000                       inf             -4.037521e+04  \n",
       "44      0.630590              1.121290e+05             -7.607594e+04  \n",
       "45      0.244798              1.278315e+05             -8.672955e+04  \n",
       "46     -0.023062                       inf              0.000000e+00  \n",
       "47     -0.015000              0.000000e+00             -7.500000e+05  \n",
       "48     -1.694119              7.322309e+04             -2.812500e+04  \n",
       "49     -1.293296              8.347719e+04             -2.812500e+04  \n",
       "50     -1.015000              2.541681e+06             -2.812500e+04  \n",
       "51     -1.000000                       inf              0.000000e+00  \n",
       "52      0.694119              1.079242e+05             -7.322309e+04  \n",
       "53      0.293296              1.230378e+05             -8.347719e+04  \n",
       "54      0.015000                       inf              0.000000e+00  \n",
       "55      0.000000                       inf              0.000000e+00  \n",
       "56      1.159642              8.546411e+05              6.790044e+05  \n",
       "57      0.645621              8.615949e+05              6.742864e+05  \n",
       "58      0.255234              8.730378e+05              6.665228e+05  \n",
       "59      0.000000                       inf              0.000000e+00  \n",
       "60      0.000000                       inf              0.000000e+00  \n",
       "61      0.000000                       inf              6.973550e+03  \n",
       "62      0.000000                       inf              1.682166e+04  \n",
       "63      0.000000                       inf              1.219859e+04  \n",
       "64      0.000000                       inf              8.316414e+03  \n",
       "65      2.726899              1.601451e+04              1.202035e+04  \n",
       "66      2.089137              1.513656e+04              1.331437e+04  \n",
       "67      0.000000                       inf              0.000000e+00  \n",
       "68      0.000000                       inf              5.000000e+03  \n",
       "69      0.000000                       inf              5.986775e+03  \n",
       "70      6.466482              1.141425e+04             -1.087461e+04  \n",
       "71      0.000000                       inf              1.180141e+04  \n",
       "72     11.115855              6.767791e+03             -6.475656e+03  \n",
       "73      8.470597              1.052910e+04             -1.052910e+04  \n",
       "74      6.466482              1.246455e+04             -1.246455e+04  \n",
       "75      5.075000              6.232276e+03             -6.232276e+03  \n",
       "76     56.485025              3.316405e+03             -2.250074e+03  \n",
       "77     44.608225              7.134248e+03             -4.840358e+03  \n",
       "78     41.172623              2.242993e+04             -8.223139e+02  \n",
       "79     83.345908              2.978907e+02             -1.770211e+04  \n",
       "80     61.996950              1.914330e+03             -1.298811e+03  \n",
       "81     49.706809              1.526529e+03             -1.035701e+03  \n",
       "82     51.581771              5.729104e+03             -2.052910e+04  \n",
       "83     98.308249              2.864552e+03             -7.664552e+03  \n",
       "84      0.000000             -5.500000e+03                      -inf  \n",
       "85      0.000000              5.388098e+03                      -inf  \n",
       "86      0.000000              1.048612e+04                      -inf  \n",
       "87      0.000000              1.062127e+04                      -inf  \n",
       "88      0.000000              3.664400e+03                      -inf  \n",
       "89      0.000000              1.416720e+04                      -inf  \n",
       "90      0.000000              1.686360e+04                      -inf  \n",
       "91      0.000000              7.716800e+03                      -inf  \n",
       "92     -9.845908              2.459578e+04              5.702109e+03  \n",
       "93      0.000000              6.232276e+03                      -inf  "
      ]
     },
     "execution_count": 242,
     "metadata": {},
     "output_type": "execute_result"
    }
   ],
   "source": [
    "pd.set_option('display.max_rows', constraints_df.shape[0]+1)\n",
    "constraints_df"
   ]
  },
  {
   "cell_type": "markdown",
   "metadata": {},
   "source": [
    "# ***Question 3***"
   ]
  },
  {
   "cell_type": "markdown",
   "metadata": {},
   "source": [
    "### (a) What happens if the prices for the adapters are a little weak and they decrease to \\\\$173 for the IBM version and \\\\$198 for the Macintosh version? Does this make any difference? \n"
   ]
  },
  {
   "cell_type": "markdown",
   "metadata": {},
   "source": [
    "Yes, the optimal objective value (i.e. profit) decreases to \\\\$4,307,426 from \\\\$4,474,198 due to a decrease in revenue.\n"
   ]
  },
  {
   "cell_type": "markdown",
   "metadata": {},
   "source": [
    "### (b) What about decreases to \\\\$172 and \\\\$197, respectively, for the IBM and Macintosh versions? Explain the answers in terms that Miller will understand. \n"
   ]
  },
  {
   "cell_type": "markdown",
   "metadata": {},
   "source": [
    "The optimal objective value (i.e. profit) further decreases to $4,224,846. This is because pricing is weaker than expected, meaning less revenue will be generated per adapter unit sold.\n"
   ]
  },
  {
   "cell_type": "markdown",
   "metadata": {},
   "source": [
    "### (c) Suppose that American Office Systems can increase the price of the adapters to \\\\$179 and \\\\$204. How would this affect the original solution? \n"
   ]
  },
  {
   "cell_type": "markdown",
   "metadata": {},
   "source": [
    "In this case, the optimal objective value (i.e. profit) increases to $4,814,348 because more revenue is generated per unit sold.\n"
   ]
  },
  {
   "cell_type": "markdown",
   "metadata": {},
   "source": [
    "# ***Question 4***"
   ]
  },
  {
   "cell_type": "markdown",
   "metadata": {},
   "source": [
    "### (a) Suppose that an error was made in determining the costs of the adapters and that they really should have been \\\\$101 for the IBM version and \\\\$111 for the Macintosh version. What is the effect of this error? \n"
   ]
  },
  {
   "cell_type": "markdown",
   "metadata": {},
   "source": [
    "The optimal objective value (profit) decreases from \\\\$4,474,198 to \\\\$4,364,883 because of the higher production cost. With it, the production number of IBM decreased in Q2 and Q3. And the production number of Macintosh decreased in Q1. \n"
   ]
  },
  {
   "cell_type": "markdown",
   "metadata": {},
   "source": [
    "### (b) What about costs of \\\\$103 and \\\\$115? Explain the answers in terms that Miller will understand.\n"
   ]
  },
  {
   "cell_type": "markdown",
   "metadata": {},
   "source": [
    "The optimal objective value (profit) decreased further from \\\\$4,474,198 to \\\\$4,042,801 because of the further higher production cost. Since each adapter costs more to produce, the company will generate less profit per adapter sold.\n"
   ]
  },
  {
   "cell_type": "markdown",
   "metadata": {},
   "source": [
    "# ***Question 5***"
   ]
  },
  {
   "cell_type": "markdown",
   "metadata": {},
   "source": [
    "### (a) Analyze the effect of this new collection policy and make a recommendation to Howell about whether to implement the new procedure. As before, any accounts receivable not collected by the end of the third quarter will be sold to a collection agency for $0.50 on the dollar. \n"
   ]
  },
  {
   "cell_type": "markdown",
   "metadata": {},
   "source": [
    "No, Howell shouldn’t implement the new procedure, because there’s a decrease in the objective function's optimal value going from \\\\$4,474,198 to \\\\$4,236,074 with the new model from the new collection policy and the additional cost splitted into quarterly fixed costs.\n"
   ]
  },
  {
   "cell_type": "markdown",
   "metadata": {},
   "source": [
    "### (b) Howell wonders whether switching to selling adapters for all cash is worth the effort. This would ameliorate the cash squeeze because it would eliminate not only the slow collections but also the use of the collection agency for accounts that remain unpaid after 9 months. It would cost about $90,000 more than at present to implement the all-cash policy because the accounting system would need to be modified, and personnel would have to be retrained. Analyze this possibility and make a recommendation to Howell. \n"
   ]
  },
  {
   "cell_type": "markdown",
   "metadata": {},
   "source": [
    "Considering 1995’s collections table are as table 4, a 100% collection for accounts in 1996 would be beneficial because the objective function’s optimal value would go from the previous \\\\$4,236,074 yearly profit to \\\\$5,488,628 even with the additional cost. As a result, Howell should switch to selling adapters for all profit."
   ]
  },
  {
   "cell_type": "markdown",
   "metadata": {},
   "source": [
    "# ***Question 6***"
   ]
  },
  {
   "cell_type": "markdown",
   "metadata": {},
   "source": [
    "### (a) Suppose that Williams overestimated the effectiveness of advertising. It now appears that $100 is needed to increase sales by one adapter. How will this affect the original solution? Explain the answer in terms that Miller will understand. \n"
   ]
  },
  {
   "cell_type": "markdown",
   "metadata": {},
   "source": [
    "The optimal objective value (i.e. profit) decreases to $3,474,891. This is because it now costs 10x more money to gain each additional sale through marketing. For this reason, less funds are allocated to marketing, meaning less demand created for the adapters and therefore decreased sales. We can observe this as the amount of advertisements purchased decreases from ~13,900 to ~7,400 and the number of sales decreases proportionally.\n"
   ]
  },
  {
   "cell_type": "markdown",
   "metadata": {},
   "source": [
    "### (b) What happens if the required advertising outlay is $12.50 per additional adapter sold? \n"
   ]
  },
  {
   "cell_type": "markdown",
   "metadata": {},
   "source": [
    "In this case, the optimal objective value (i.e. profit) only decreases to \\\\$4,420,898 (from \\\\$4,474,198)."
   ]
  },
  {
   "cell_type": "markdown",
   "metadata": {},
   "source": [
    "# ***Question 7***"
   ]
  },
  {
   "cell_type": "markdown",
   "metadata": {},
   "source": [
    "### Suppose that the line of credit from Citibank that Howell thought he had arranged did not work out because of the poor financial situation of the company. The company can obtain one for the same amount from a small local bank; however, the interest rate is much higher, 24%. Analyze how this change affects American Office Systems. \n"
   ]
  },
  {
   "cell_type": "markdown",
   "metadata": {},
   "source": [
    "The optimal objective value (i.e. profit) decreases to \\\\$4,406,657 (from \\\\$4,474,198). This is the interest expense per dollar borrowed increases, decreasing the profit. This however does not increase the amount that the firm chooses to borrow from the line of credit as it is still optimal to withdraw the entire amount.\n"
   ]
  },
  {
   "cell_type": "markdown",
   "metadata": {},
   "source": [
    "# ***Question 8***"
   ]
  },
  {
   "cell_type": "markdown",
   "metadata": {},
   "source": [
    "### (a) Suppose that Garcia finds a bug in his original inventory model. Correcting it results in a safety cushion of 15% instead of the 10% he suggested previously. Determine whether this is important.\n"
   ]
  },
  {
   "cell_type": "markdown",
   "metadata": {},
   "source": [
    "The allowable increase for this constraint is greater than 0.05 for every given quarter and so this bug does not change the optimal objective value of profit.\n"
   ]
  },
  {
   "cell_type": "markdown",
   "metadata": {},
   "source": [
    "### (b) What if the error is 20%? Explain the answers in terms that Miller will understand. \n"
   ]
  },
  {
   "cell_type": "markdown",
   "metadata": {},
   "source": [
    "Once again the allowable increase for this constraint is greater than 0.1 for every given quarter and so this bug does not change the optimal objective value of profit. In other words, the model output says that it is worth it to produce more inventory for both products in each quarter than required by the safety cushion of 20%.\n"
   ]
  },
  {
   "cell_type": "markdown",
   "metadata": {},
   "source": [
    "# ***Question 9***"
   ]
  },
  {
   "cell_type": "markdown",
   "metadata": {},
   "source": [
    "### (a) Production capacity is scheduled to increase by 10% in the fourth quarter. Suppose that Miller is advised by the construction company that the work will not be finished until the following year. How will this delay affect the company’s plans? \n"
   ]
  },
  {
   "cell_type": "markdown",
   "metadata": {},
   "source": [
    "The company does not produce any Mac adapters in Q4 and only produces ~12,200 IBM adapters in Q4 (26% of the 47,520 original capacity) so this change does not affect any of the company’s plans nor does it affect any optimal values.\n"
   ]
  },
  {
   "cell_type": "markdown",
   "metadata": {},
   "source": [
    "### (b) In addition to the delay in part (a), suppose that an accident in the production facility damages some of the equipment so that the capacity is decreased by 10% in the fourth quarter. Analyze how this will affect the original solution. \n"
   ]
  },
  {
   "cell_type": "markdown",
   "metadata": {},
   "source": [
    "Once again, the company does not produce any Mac adapters in Q4 and only produces ~12,200 IBM adapters in Q4 (28% of the 43,200 non-renovated capacity) so this change does not affect any of the company’s plans nor does it affect any optimal values.\n"
   ]
  },
  {
   "cell_type": "markdown",
   "metadata": {},
   "source": [
    "# ***Question 10***"
   ]
  },
  {
   "cell_type": "markdown",
   "metadata": {},
   "source": [
    "### Williams is concerned about the accuracy of Lu’s 1996 maximum expected sales forecasts. If errors in these forecasts have a significant impact on company profits, she is considering hiring a San Francisco marketing research firm for a more detailed analysis, which would charge $50,000 for the study. Analyze the potential impact if Lu’s forecasts are off by 1,000 for IBM adapters and 200 for Macintosh adapters each quarter. Should she hire the marketing research firm? \n"
   ]
  },
  {
   "cell_type": "markdown",
   "metadata": {},
   "source": [
    "The maximum sales is only a binding constraint for IBM adapters in Q3 where the shadow price is \\\\$6.467 which will lead to a decrease in profit of \\\\$6,467. The shadow price for Mac max sales are \\\\$11.11, \\\\$8.47, \\\\$6.47, and \\\\$5.08 respectively for quarters 1-4. Taking into account both the decreases in Mac and IBM maximum sales, the impact to profit would be \\\\$12,693 which is much lower than the \\\\$50,000 needed to do the study. For this reason Williams should not hire the marketing research firm. All changes are within the allowable decrease so the model does not need to be rerun with new constraints.\n"
   ]
  },
  {
   "cell_type": "markdown",
   "metadata": {},
   "source": [
    "# ***Question 11***"
   ]
  },
  {
   "cell_type": "markdown",
   "metadata": {},
   "source": [
    "### (a) To determine whether the extra $1 million line of credit is needed, analyze its effect on the original solution given in Question 2. "
   ]
  },
  {
   "cell_type": "markdown",
   "metadata": {},
   "source": [
    "It increases the original objective optimal value from \\\\$4,474,197 to \\\\$6,460,996. Additionally, the extra million dollars is fully borrowed in the first three quarters which increases production and ads due to the increase in funds.\n",
    "\n"
   ]
  },
  {
   "cell_type": "markdown",
   "metadata": {},
   "source": [
    "### (b) To fully understand the ramifications of the extra $1,000,000 line of credit, redo: (i) Question 3b, (ii)Question 4b, (iii) Question 6a, and (iv) Question 8b. Summarize your results. \n"
   ]
  },
  {
   "cell_type": "markdown",
   "metadata": {},
   "source": [
    "Q3b (decrease adapters prices): Optimal Obj. Value decreases from \\\\$6,460,996 to \\\\$6,087,549\n",
    "\n",
    "Q4b (increase adapters costs): Optimal Obj. Value decreases from \\\\$6,460,996 to \\\\$5,795,089\n",
    "\n",
    "Q6a (decrease in ads returns): Optimal Obj. Value decreases from \\\\$6,460,996 to \\\\$3,821,656\n",
    "\n",
    "Q8b (increase/error safety inventory cushion): Optimal Obj. Value stays the same, \\\\$6,460,996 to \\\\$6,460,996.\n",
    "\n",
    "Results: \n",
    "An extra \\\\$1,000,000 line follows the dynamics of the previous model but with a higher base optimal objective value. Any decrease in adapter prices, increase in adapter costs or decrease in advertisement returns decreases the optimal objective value. As expected, the increase in the safety inventory cushion doesn’t affect the optimal objective value if it is still within the allowable increase.\n"
   ]
  },
  {
   "cell_type": "markdown",
   "metadata": {},
   "source": [
    "### (c) What about Howell’s claim that an extra $8,000,000 line of credit is necessary? Use that adjustment and redo Question 6a."
   ]
  },
  {
   "cell_type": "markdown",
   "metadata": {},
   "source": [
    "Optimal Obj. Value with extra \\\\$8M line of credit: \\\\$9,798,131.\n",
    "Q6a (decrease in ads returns): Optimal Obj. Value decreases from \\\\$9,798,131 to \\\\$4,700,512.\n",
    "\n",
    "We can notice that although extra funds in the line of credit can increase the optimal objective value, there is a limit to it because of allowable increases, which means that \\\\$8,000,000 might be an excessive amount because we can see that the shadow prices for borrowing constraints are non binding (=0) at that point. Also, decreasing advertisement returns by 10x, decreases the optimal objective value by a lot more than previous lines of credit (\\\\$9,798,131 to \\\\$4,700,512) because of the increased borrowing.\n"
   ]
  },
  {
   "cell_type": "markdown",
   "metadata": {},
   "source": [
    "# END OF REPORT"
   ]
  }
 ],
 "metadata": {
  "colab": {
   "provenance": []
  },
  "kernelspec": {
   "display_name": "Python 3 (ipykernel)",
   "language": "python",
   "name": "python3"
  },
  "language_info": {
   "codemirror_mode": {
    "name": "ipython",
    "version": 3
   },
   "file_extension": ".py",
   "mimetype": "text/x-python",
   "name": "python",
   "nbconvert_exporter": "python",
   "pygments_lexer": "ipython3",
   "version": "3.10.9"
  }
 },
 "nbformat": 4,
 "nbformat_minor": 4
}
